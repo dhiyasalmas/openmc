{
 "cells": [
  {
   "cell_type": "markdown",
   "metadata": {},
   "source": [
    "# <center> **Pengantar OpenMC** </center> "
   ]
  },
  {
   "cell_type": "markdown",
   "metadata": {},
   "source": [
    "**Dhiya Salma Salsabila/24923304**"
   ]
  },
  {
   "cell_type": "markdown",
   "metadata": {},
   "source": [
    "### **Pendahuluan**\n",
    "**OpenMC** mensimulasikan partikel berupa **neutron dan foton** yang **bergerak secara stokastik (acak)** melalui sebuah **model yang di definisikan secara arbitrer (bebas)**.\n",
    "\n",
    "<p>\n",
    "\n",
    "Dalam reaktor nuklir, **neutron menjadi sangat penting karena dapat menyebabkan reaksi fisi**. Dengan mengetahui perilaku neutron maka dapat **menentukan seberapa sering reaksi fisi terjadi**. Hal ini juga **sebanding dengan energi yang dihasilkan**. "
   ]
  },
  {
   "cell_type": "markdown",
   "metadata": {},
   "source": [
    "#### **Deterministrik**\n",
    "Dalam metode ini diselesaikan dengan persamaan yang dapat **menggambarkan perilaku rata-rata partikel** atau biasa di sebut dengan **persamaan transport neutron**\n",
    "<p>\n",
    "\n",
    "Persamaan ini merupakan **persamaan berdimensi tujuh (tiga dimensi untuk ruang, tiga untuk kecepatan, dan satu untuk waktu)** yang sangat sulit diselesaikan secara langsung. Untuk semua kasus, kecuali masalah yang paling sederhana, diperlukan beberapa bentuk diskretisasi. \n",
    "<p>\n",
    "\n",
    "**Diskretisasi dilakukan dengan membagi seluruh ruang menjadi bagian-bagian kecil yang homogen**, kemudian menyelesaikan persamaan pada bagian-bagian kecil tersebut. Setelah melakukan diskretisasi dan berbagai pendekatan lainnya, kita dapat menghasilkan bentuk persamaan yang sesuai untuk diselesaikan dengan komputer. **Di antaranya adalah metode ordinat diskret, metode karakteristik, difusi beda hingga, dan metode nodal (pemecahan diferensial parsial)**.\n",
    "<p>\n",
    "\n",
    "**Kelebihan:**\n",
    "\n",
    "- Kecepatan solusi: Tergantung pada metode yang digunakan, solusi dapat ditentukan dengan sangat cepat.\n",
    "- Solusi global: Solusi yang dihasilkan adalah solusi global, artinya kita mengetahui perilaku rata-rata di seluruh domain.\n",
    "- Kepastian solusi: Setelah masalah mencapai konvergensi, solusinya diketahui dengan pasti.\n",
    "<p>\n",
    "\n",
    "**Kekurangan:**\n",
    "\n",
    "- Kerumitan model kompleks: Jika modelnya rumit, diperlukan pembuatan mesh yang canggih dan kompleks.\n",
    "- Persiapan penampang multi-grup: Diperlukan penampang multi-grup yang memerlukan pengetahuan solusi sebelumnya (a priori).\n",
    "\n",
    "#### **Monte Carlo**\n",
    "Dalam metode ini menentukan perilaku rata-rata berbagai kuantitas fisik dalam suatu sistem\n",
    "<p>\n",
    "\n",
    "**Kelebihan:**\n",
    "\n",
    "- Tanpa pembuatan mesh: Tidak diperlukan pembuatan mesh untuk membangun geometri. Dengan menggunakan constructive solid geometry (CSG), dimungkinkan untuk membuat model kompleks dengan permukaan melengkung.\n",
    "- Fleksibilitas dalam penampang energi: Metode Monte Carlo dapat digunakan baik dengan penampang energi kontinu maupun multi-grup.\n",
    "- Kemudahan simulasi paralel: Menjalankan simulasi secara paralel secara konsep sangat sederhana.\n",
    "<p>\n",
    "\n",
    "**Kekurangan:**\n",
    "\n",
    "- Biaya komputasi tinggi: Karena bergantung pada pengambilan sampel acak berulang, metode ini memerlukan komputasi yang sangat mahal.\n",
    "- Tidak otomatis memberikan solusi global: Simulasi tidak secara otomatis memberikan solusi global di seluruh domain – Anda harus secara spesifik meminta kuantitas yang diinginkan.\n",
    "- Ketidakpastian stokastik: Bahkan setelah masalah mencapai konvergensi, diperlukan simulasi banyak partikel untuk mengurangi ketidakpastian stokastik."
   ]
  },
  {
   "cell_type": "markdown",
   "metadata": {},
   "source": [
    "#### **Satuan dalam OpenMC**\n",
    "- Panjang : centimeter\n",
    "- Energi : electronvolt\n",
    "- Waktu : second"
   ]
  },
  {
   "cell_type": "markdown",
   "metadata": {},
   "source": [
    "### **Update Versi OpenMC**"
   ]
  },
  {
   "cell_type": "markdown",
   "metadata": {},
   "source": [
    "1. **Update Repository OpenMC**\n",
    "- cd ~/openmc  # Sesuaikan dengan lokasi instalasi OpenMC\n",
    "- git fetch --all  # Ambil semua perubahan terbaru dari repository\n",
    "- git tag # Mengecek versi yang tersedia\n",
    "- git checkout v0.15.0  # Pindah ke versi terbaru\n",
    "- git pull origin v0.15.0  # Pastikan kode terbaru diambil\n",
    "\n",
    "2. **Build Ulang OpenMC**\n",
    "- cd ~/openmc  # Sesuaikan dengan lokasi repository OpenMC Anda\n",
    "- rm -rf build  # Hapus folder build lama (opsional tapi disarankan)\n",
    "- mkdir build && cd build\n",
    "- cmake ..\n",
    "- make -j$(nproc)\n",
    "- sudo make install  # Instal ulang\n",
    "\n",
    "3. **Konfigurasi ke python untuk versi terbaru**\n",
    "- pip uninstall openmc\n",
    "- pip install --no-cache-dir .\n",
    "\n",
    "4. **Cek versi**\n",
    "- openmc --version\n",
    "- git log -1"
   ]
  },
  {
   "cell_type": "markdown",
   "metadata": {},
   "source": [
    "### **Trik cepat paham OpenMC**\n",
    "\n",
    "Jika sudah terbiasa dalam bahasa pemrograman openmc menyediakan python API, dimana setiap dokumentasi dituliskan dan dapat diakses dengan fitur `help()`.\n",
    "\n",
    "[OpenMC API](https://docs.openmc.org/en/stable/pythonapi/index.html)"
   ]
  },
  {
   "cell_type": "code",
   "execution_count": 2,
   "metadata": {},
   "outputs": [
    {
     "name": "stdout",
     "output_type": "stream",
     "text": [
      "Help on method mix_materials in module openmc.material:\n",
      "\n",
      "mix_materials(materials, fracs: 'typing.Iterable[float]', percent_type: 'str' = 'ao', name: 'Optional[str]' = None) -> 'Material' method of builtins.type instance\n",
      "    Mix materials together based on atom, weight, or volume fractions\n",
      "    \n",
      "    .. versionadded:: 0.12\n",
      "    \n",
      "    Parameters\n",
      "    ----------\n",
      "    materials : Iterable of openmc.Material\n",
      "        Materials to combine\n",
      "    fracs : Iterable of float\n",
      "        Fractions of each material to be combined\n",
      "    percent_type : {'ao', 'wo', 'vo'}\n",
      "        Type of percentage, must be one of 'ao', 'wo', or 'vo', to signify atom\n",
      "        percent (molar percent), weight percent, or volume percent,\n",
      "        optional. Defaults to 'ao'\n",
      "    name : str\n",
      "        The name for the new material, optional. Defaults to concatenated\n",
      "        names of input materials with percentages indicated inside\n",
      "        parentheses.\n",
      "    \n",
      "    Returns\n",
      "    -------\n",
      "    openmc.Material\n",
      "        Mixture of the materials\n",
      "\n"
     ]
    }
   ],
   "source": [
    "# Contoh\n",
    "import openmc\n",
    "help(openmc.Material.mix_materials)"
   ]
  },
  {
   "cell_type": "markdown",
   "metadata": {},
   "source": [
    "## <Center> **Konfigurasi Data Nuklir** </Center>\n",
    "OpenMC menggunakan format HDF5, namun jika kita memiliki data dalam format ACE yang telah di olah NJOY seperti yang biasa di pakai dalam MCNP atau Serpent maka data tersebut harus di konversi terlebih dahulu ke HDF5."
   ]
  },
  {
   "cell_type": "markdown",
   "metadata": {},
   "source": [
    "##### **Mengolah format ACE**"
   ]
  },
  {
   "cell_type": "code",
   "execution_count": 3,
   "metadata": {},
   "outputs": [],
   "source": [
    "import openmc\n",
    "# Contoh\n",
    "u235 = openmc.data.IncidentNeutron.from_ace('92235.710nc')\n",
    "u235.export_to_hdf5('U235.h5')"
   ]
  },
  {
   "cell_type": "markdown",
   "metadata": {},
   "source": [
    "Jika terdapat beberapa file dengan format ACE untuk nuklida yang sama tetapi suhu yang berbeda maka dapat digunakan "
   ]
  },
  {
   "cell_type": "code",
   "execution_count": null,
   "metadata": {},
   "outputs": [],
   "source": [
    "# Interaksi neutron, untuk simulasi interaksi neutron dengan bahan pada berbagai suhu\n",
    "u235 = openmc.data.IncidentNeutron.from_ace('92235.710nc')\n",
    "for suffix in [711, 712, 713, 714, 715, 716]:\n",
    "    u235.add_temperature_from_ace('92235.{}nc'.format(suffix))\n",
    "u235.export_to_hdf5('U235.h5')\n",
    "\n",
    "# Hamburan termal, untuk simulasi interaksi neutron dengan bahan pada suhu rendah, di mana efek hamburan termal signifikan\n",
    "light_water = openmc.data.ThermalScattering.from_ace('lwtr.20t')\n",
    "for suffix in range(21, 28):\n",
    "    light_water.add_temperature_from_ace('lwtr.{}t'.format(suffix))\n",
    "light_water.export_to_hdf5('lwtr.h5')"
   ]
  },
  {
   "cell_type": "markdown",
   "metadata": {},
   "source": [
    "Setelah semua file ACE sudah di ubah ke dalam HDF5, maka file harus di ekspor ke dalam XML"
   ]
  },
  {
   "cell_type": "code",
   "execution_count": null,
   "metadata": {},
   "outputs": [],
   "source": [
    "library = openmc.data.DataLibrary()\n",
    "library.register_file('U235.h5')\n",
    "library.register_file('lwtr.h5')\n",
    "...\n",
    "library.export_to_xml()"
   ]
  },
  {
   "cell_type": "markdown",
   "metadata": {},
   "source": [
    "#### **Mengolah dari ENDF**"
   ]
  },
  {
   "cell_type": "code",
   "execution_count": null,
   "metadata": {},
   "outputs": [],
   "source": [
    "# Contoh penambahan Zr-92, temperatur default 293.6 K\n",
    "zr92 = openmc.data.IncidentNeutron.from_njoy('n-040_Zr_092.endf')\n",
    "\n",
    "# Contoh penambahan dengan beberapa temperatur\n",
    "zr92 = openmc.data.IncidentNeutron.from_njoy(\n",
    "    'n-040_Zr_092.endf', temperatures=[300., 600., 1000.])"
   ]
  },
  {
   "cell_type": "markdown",
   "metadata": {},
   "source": [
    "#### **Photon Cross Section**"
   ]
  },
  {
   "cell_type": "code",
   "execution_count": null,
   "metadata": {},
   "outputs": [],
   "source": [
    "# Dari ACE\n",
    "u = openmc.data.IncidentPhoton.from_ace('92000.12p')\n",
    "u.export_to_hdf5('U.h5')\n",
    "\n",
    "# Dari ENDF\n",
    "u = openmc.data.IncidentPhoton.from_endf('photoat-092_U_000.endf',\n",
    "                                         'atom-092_U_000.endf')"
   ]
  },
  {
   "cell_type": "markdown",
   "metadata": {},
   "source": [
    "## <Center> **Struktur OpenMC** </Center>\n",
    "untuk menjalanlan OpenMC, hal utama yang harus dilakukan ialah membuat file XML yang menggambarkan model yang akan disimulasikan. Ada 3 file yang diperlukan :\n",
    "- **materials.xml**, file ini berisi **material apa yang ada dalam model** dan dari apa material tersebut terdiri. Selain itu, file ini menunjukkan di mana OpenMC harus mencari perpustakaan penampang lintang.\n",
    "- **geometry.xml**, file ini menjelaskan bagaimana material yang **didefinisikan dalam materials.xml menempati wilayah ruang**. Volume fisik didefinisikan menggunakan geometri padat konstruktif, dijelaskan secara rinci dalam Mendefinisikan Geometri.\n",
    "- **settings.xml**, file ini menunjukkan **mode apa yang harus dijalankan OpenMC**, berapa banyak partikel yang akan disimulasikan, definisi sumber, dan berbagai opsi lainnya.\n",
    "- **tallies.xml**, file ini menjelaskan **kuantitas fisik apa yang harus dihitung selama simulasi (fluks, laju reaksi, arus, dll.)**.\n",
    "- **plots.xml**, file ini memberikan **spesifikasi untuk menghasilkan plot irisan atau voxel dari geometri**."
   ]
  },
  {
   "cell_type": "code",
   "execution_count": null,
   "metadata": {},
   "outputs": [],
   "source": [
    "# Create materials\n",
    "materials = openmc.Materials()\n",
    "...\n",
    "materials.export_to_xml()\n",
    "\n",
    "# Create geometry\n",
    "geometry = openmc.Geometry()\n",
    "...\n",
    "geometry.export_to_xml()\n",
    "\n",
    "# Assign simulation settings\n",
    "settings = openmc.Settings()\n",
    "...\n",
    "settings.export_to_xml()"
   ]
  },
  {
   "cell_type": "markdown",
   "metadata": {},
   "source": [
    "## <center> **Material** </center>"
   ]
  },
  {
   "cell_type": "markdown",
   "metadata": {},
   "source": [
    "Material dalam OpenMC didefinisikan sebagai sekumpulan nuklida/elemen dengan densitas tertentu dan dibuat menggunakan `openmc.Material`. Setelah sebuah material dibuat, nuklida dapat ditambahkan dengan `Material.add_nuclide()` dan elemen dapat ditambahkan dengan `Material.add_element()`. \n",
    "> **Densitas ditentukan menggunakan fraksi atom atau fraksi massa**\n",
    "- **Elemen, zat kimia murni** yang terdiri dari atom dengan jumlah proton yang sama dalam intinya. Dicirikan oleh nomor atom (Z), misalnya: Hidrogen (H, Z=1), Karbon (C, Z=6), Uranium (U, Z=92).\n",
    "- **Nuklida, inti atom tertentu yang ditentukan oleh jumlah proton (Z) dan neutron (N)**. misalnya: Uranium-235 (²³⁵U): Z = 92, N = 143, A = 235"
   ]
  },
  {
   "cell_type": "markdown",
   "metadata": {},
   "source": [
    "#### **Penamaan Material**\n",
    "**Nuklida**\n",
    "- `SymA` di mana \"A\" adalah nomor massa (misalnya, Fe56)\n",
    "\n",
    "**Elemen**\n",
    "- `Sym0` (misalnya, Fe0 atau C0)\n",
    "\n",
    "**Keadaan tereksitasi**\n",
    "- `SymA_eN` (misalnya, V51_e1 untuk keadaan tereksitasi pertama Vanadium-51). Ini hanya digunakan dalam data peluruhan.\n",
    "\n",
    "**Keadaan metastabil**\n",
    "- `SymA_mN` (misalnya, Am242_m1 untuk keadaan tereksitasi pertama Americium-242).\n",
    "\n",
    "**Senyawa**\n",
    "- `c_String_Describing_Material` (misalnya, c_H_in_H2O). Digunakan untuk data hamburan termal."
   ]
  },
  {
   "cell_type": "code",
   "execution_count": null,
   "metadata": {},
   "outputs": [],
   "source": [
    "mat = openmc.Material()\n",
    "# material Gd-152 dengan 0,5 persen atom\n",
    "mat.add_nuclide('Gd152', 0.5, 'ao')\n",
    "\n",
    "# contoh add_element\n",
    "mat.add_element('C', 1.0)\n",
    "mat.add_element('aluminium', 1.0)"
   ]
  },
  {
   "cell_type": "markdown",
   "metadata": {},
   "source": [
    "Densitas yang ditentukan untuk setiap nuklida/elemen bersifat relatif dan akan dinormalisasi berdasarkan densitas total material. \n",
    "\n",
    "**Densitas total diatur menggunakan metode `Material.set_density()`**. \n",
    "\n",
    "Densitas dapat ditentukan dalam gram per sentimeter kubik (g/cm3), atom per barn-cm (atom/b-cm), atau kilogram per meter kubik (kg/m3)."
   ]
  },
  {
   "cell_type": "markdown",
   "metadata": {},
   "source": [
    "- 'sum' → Kepadatan total dihitung dengan menjumlahkan kepadatan atom dari masing-masing nuklida.\n",
    "- 'macro' → Menentukan kepadatan makroskopik langsung dalam satuan atoms/barn-cm.\n",
    "- 'atom/b-cm' atau 'atom/barn-cm' → Kepadatan ditentukan dalam jumlah atom per barn-cm³.\n",
    "- 'g/cm3' → Kepadatan dalam satuan gram per cm³.\n",
    "- 'kg/m3' → Kepadatan dalam satuan kilogram per meter kubik.\n",
    "- 'mol/cm3' → Kepadatan dalam satuan mol per cm³."
   ]
  },
  {
   "cell_type": "code",
   "execution_count": null,
   "metadata": {},
   "outputs": [],
   "source": [
    "# contoh sum\n",
    "pu = openmc.Material()\n",
    "pu.set_density('sum')\n",
    "pu.add_nuclide('Pu239', 3.7047e-02)\n",
    "pu.add_nuclide('Pu240', 1.7512e-03)\n",
    "pu.add_nuclide('Pu241', 1.1674e-04)\n",
    "pu.add_element('Ga', 1.3752e-03)\n",
    "mats = openmc.Materials([pu])\n",
    "mats.export_to_xml()\n",
    "\n",
    "# contoh\n",
    "mat.set_density('g/cm3', 10.5) # Menetapkan kepadatan dalam g/cm³\n",
    "mat.set_density('atom/b-cm', 0.05) # Kepadatan dalam atom per barn-cm"
   ]
  },
  {
   "cell_type": "markdown",
   "metadata": {},
   "source": [
    "OpenMC menyimpan data mengenai massa atom dan kelimpahan alami dari semua isotop yang diketahui, lalu menggunakan data ini untuk menentukan isotop mana yang harus ditambahkan ke material. Ketika material diekspor ke XML untuk digunakan oleh eksekusi OpenMC, elemen alami apa pun akan otomatis diubah menjadi isotop-isotop yang terjadi secara alami."
   ]
  },
  {
   "cell_type": "markdown",
   "metadata": {},
   "source": [
    "Metode `Material.add_element()` juga dapat digunakan untuk menambahkan uranium dengan tingkat pengayaan tertentu melalui argumen `enrichment`"
   ]
  },
  {
   "cell_type": "code",
   "execution_count": null,
   "metadata": {},
   "outputs": [],
   "source": [
    "# uranium dengan pengayaan 3,2%\n",
    "mat.add_element('U', 1.0, enrichment=3.2)"
   ]
  },
  {
   "cell_type": "markdown",
   "metadata": {},
   "source": [
    "Pengayaan juga dapat dilakukan untuk elemen yang terdiri dari dua isotop alami (misalnya, Li atau B) dalam satuan persen atom. Untuk mengaktifkan ini, tambahkan argumen `enrichment_target` ke `Material.add_element()`."
   ]
  },
  {
   "cell_type": "code",
   "execution_count": null,
   "metadata": {},
   "outputs": [],
   "source": [
    "# Pengayaan B-10 hingga 30%\n",
    "mat.add_element('B', 1.0, enrichment=30.0, enrichment_target='B10')"
   ]
  },
  {
   "cell_type": "markdown",
   "metadata": {},
   "source": [
    "Untuk mengayakan suatu isotop dalam satuan persen massa (`wo%`), tambahkan argumen tambahan `enrichment_type`."
   ]
  },
  {
   "cell_type": "code",
   "execution_count": null,
   "metadata": {},
   "outputs": [],
   "source": [
    "# Pengayaan Li-6 hingga 15% berat\n",
    "mat.add_element('Li', 1.0, enrichment=15.0, enrichment_target='Li6',\n",
    "                enrichment_type='wo')"
   ]
  },
  {
   "cell_type": "markdown",
   "metadata": {},
   "source": [
    "**Catatan**:\n",
    "> Seringkali, pustaka penampang lintang tidak benar-benar memiliki semua isotop alami dari suatu elemen. Misalnya, dalam ENDF/B-VII.1, evaluasi penampang lintang tersedia untuk O-16 dan O-17 tetapi tidak untuk O-18. Jika OpenMC mengetahui pustaka penampang lintang yang akan Anda gunakan (melalui variabel lingkungan OPENMC_CROSS_SECTIONS), maka OpenMC akan mencoba hanya memasukkan isotop yang memiliki data penampang lintang dalam model. Dalam kasus oksigen pada ENDF/B-VII.1, kelimpahan O-18 akan digabungkan dengan O-16."
   ]
  },
  {
   "cell_type": "markdown",
   "metadata": {},
   "source": [
    "### **Thermal Scattering**"
   ]
  },
  {
   "cell_type": "markdown",
   "metadata": {},
   "source": [
    "Jika terdapat material moderator seperti air atau grafit, maka harus ditetapkan data hamburan termal (yang disebut S(α,β)) menggunakan metode `Material.add_s_alpha_beta()`. \n",
    "\n",
    "Dalam simulasi fisika sangat penting karena tabel ini menyediakan data penampang atom terikat yang lebih akurat pada energi termal. Tanpa tabel ini, simulasi hanya akan menggunakan penampang atom bebas, yang tidak mencerminkan interaksi atom dalam keadaan terikat, seperti dalam molekul air.\n",
    "\n",
    "`Material.add_s_alpha_beta()` membantu memperhitungkan efek-efek seperti hamburan dan penyerapan neutron oleh atom-atom yang terikat dalam molekul, yang sangat berbeda dari atom bebas.\n",
    "\n",
    "Sebagai contoh, untuk memodelkan air ringan, Anda perlu menambahkan hidrogen dan oksigen ke dalam suatu bahan dan kemudian menetapkan data hamburan termal c_H_in_H2O."
   ]
  },
  {
   "cell_type": "code",
   "execution_count": null,
   "metadata": {},
   "outputs": [],
   "source": [
    "water = openmc.Material()\n",
    "water.add_nuclide('H1', 2.0)\n",
    "water.add_nuclide('O16', 1.0)\n",
    "water.add_s_alpha_beta('c_H_in_H2O')\n",
    "water.set_density('g/cm3', 1.0)"
   ]
  },
  {
   "cell_type": "markdown",
   "metadata": {},
   "source": [
    "Selain itu ada metode tambahan untuk hamburan termal dengan menggunakan NCrystal. Dengan `Material.from_ncrystal()` dapat memasukkan data suhu, komposisi material, dan densitas."
   ]
  },
  {
   "cell_type": "code",
   "execution_count": null,
   "metadata": {},
   "outputs": [],
   "source": [
    "mat = openmc.Material.from_ncrystal('Al_sg225.ncmat;temp=300K')"
   ]
  },
  {
   "cell_type": "markdown",
   "metadata": {},
   "source": [
    "**Catatan :**\n",
    "> NCrystal hanya menangani interaksi neutron energi rendah. Interaksi lainnya disediakan oleh file ACE"
   ]
  },
  {
   "cell_type": "markdown",
   "metadata": {},
   "source": [
    "### **Temperatur**"
   ]
  },
  {
   "cell_type": "markdown",
   "metadata": {},
   "source": [
    "Dalam OpenMC, definisi material dipisahkan dari spesifikasi suhu. Jika tidak ada spesifikasi suhu sel atau material, suhu default global dapat diatur untuk diterapkan ke semua sel dan material. **Semua suhu harus diberikan dalam satuan Kelvin**"
   ]
  },
  {
   "cell_type": "code",
   "execution_count": null,
   "metadata": {},
   "outputs": [],
   "source": [
    "hot_fuel = openmc.Material()\n",
    "hot_fuel.temperature = 1200.0  # temperature in Kelvin"
   ]
  },
  {
   "cell_type": "markdown",
   "metadata": {},
   "source": [
    "### **Material Campuran**"
   ]
  },
  {
   "cell_type": "markdown",
   "metadata": {},
   "source": [
    "Di OpenMC, dimungkinkan untuk **mencampur sejumlah material untuk membuat material baru** dengan komposisi nuclide dan kerapatan yang benar. Metode `Material.mix_materials()` menerima daftar material dan daftar fraksi pencampurannya. **Fraksi pencampuran dapat diberikan sebagai fraksi atom, fraksi berat, atau fraksi volume. Jenis fraksi dapat ditentukan dengan memberikan 'ao', 'wo', atau 'vo'**"
   ]
  },
  {
   "cell_type": "code",
   "execution_count": null,
   "metadata": {},
   "outputs": [],
   "source": [
    "fuel = openmc.Material()\n",
    "fuel.add_nuclide(\"U235\", 3.2E-2)\n",
    "\n",
    "plutonium_oxide = openmc.Material()\n",
    "plutonium_oxide.add_nuclide(\"Pu238\", 1.7E-1)\n",
    "plutonium_oxide.add_nuclide(\"O16\", 1E-5)\n",
    "\n",
    "mox_material = openmc.Material()\n",
    "# Fraksi 0.97 mewakili 97% bahan bakar dan 0.03 mewakili 3% plutonium oksida berdasarkan berat, yang didefinisikan menggunakan fraksi berat (dengan parameter 'wo').\n",
    "mox_material.mix_materials([fuel, plutonium_oxide], [0.97, 0.03], 'wo')"
   ]
  },
  {
   "cell_type": "markdown",
   "metadata": {},
   "source": [
    "**Catatan:**\n",
    ">  Jika fraksi menggunakan fraksi atom atau fraksi berat, fraksi harus berjumlah satu. Jika fraksi kurang dari satu, maka sisa fraksi akan ditetapkan sebagai material void (kosong)."
   ]
  },
  {
   "cell_type": "markdown",
   "metadata": {},
   "source": [
    "Material dengan data hamburan termal S(α,β) tidak dapat langsung digunakan dalam metode `Material.mix_materials()`. Namun, dengan cara membuat material campuran terlebih dahulu menggunakan `mix_materials()` dan kemudian menambahkan data hamburan termal setelah material campuran tersebut dibuat."
   ]
  },
  {
   "cell_type": "code",
   "execution_count": null,
   "metadata": {},
   "outputs": [],
   "source": [
    "# Setelah membuat material campuran\n",
    "mox_material = openmc.Material()\n",
    "mox_material.mix_materials([fuel, plutonium_oxide], [0.97, 0.03], 'wo')\n",
    "\n",
    "# Menambahkan data hamburan termal S(alpha, beta) ke material campuran\n",
    "mox_material.add_s_alpha_beta('H_in_H2O', 300)  # Misalnya, data untuk hidrogen di air pada suhu 300 K"
   ]
  },
  {
   "cell_type": "markdown",
   "metadata": {},
   "source": [
    "Dalam OpenMC **material harus dibuat dalam bentuk XML**, Kelas Materials berfungsi seperti daftar, sehingga material dapat ditambahkan dengan menggunakan metode seperti append(), atau melalui operator +=. Selanjutnya ekspor menjadi file berformat XML menggunakan metode `Materials.export_to_xml()`."
   ]
  },
  {
   "cell_type": "code",
   "execution_count": null,
   "metadata": {},
   "outputs": [],
   "source": [
    "# Membuat instansi Materials\n",
    "materials = openmc.Materials()\n",
    "\n",
    "# Menambahkan beberapa material ke koleksi\n",
    "fuel_material = openmc.Material(1)\n",
    "fuel_material.add_nuclide('U235', 1.0, 'wo')  # contoh penambahan isotop\n",
    "materials.append(fuel_material)\n",
    "\n",
    "moderator_material = openmc.Material(2)\n",
    "moderator_material.add_nuclide('H1', 2.0, 'wo')  # contoh penambahan isotop\n",
    "materials.append(moderator_material)\n",
    "\n",
    "# Mengekspor koleksi material ke dalam file materials.xml\n",
    "materials.export_to_xml('materials.xml')\n",
    "\n",
    "# Atau\n",
    "materials = openmc.Materials()\n",
    "materials.append(water)\n",
    "materials += [uo2, zircaloy]\n",
    "materials.export_to_xml()\n",
    "\n",
    "# Atau\n",
    "materials = openmc.Materials([water, uo2, zircaloy])\n",
    "materials.export_to_xml()"
   ]
  },
  {
   "cell_type": "markdown",
   "metadata": {},
   "source": [
    "### **Cross Section**"
   ]
  },
  {
   "cell_type": "markdown",
   "metadata": {},
   "source": [
    "OpenMC menggunakan file bernama cross_sections.xml untuk menunjukkan di mana data penampang lintang (cross section) dapat ditemukan di sistem file. File ini memiliki peran yang sama seperti xsdir untuk MCNP atau xsdata untuk Serpent.\n",
    "\n",
    "OpenMC untuk menggunakan file tersebut dengan mengatur `Materials.cross_sections` atau dengan mengatur variabel lingkungan OPENMC_CROSS_SECTIONS ke path dari file cross_sections.xml."
   ]
  },
  {
   "cell_type": "code",
   "execution_count": null,
   "metadata": {},
   "outputs": [],
   "source": [
    "# Menetapkan path ke file cross_sections.xml dalam kelas Materials\n",
    "materials = openmc.Materials()\n",
    "materials.cross_sections = '/path/to/cross_sections.xml'"
   ]
  },
  {
   "cell_type": "markdown",
   "metadata": {},
   "source": [
    "Pada bagian .profile di WSL harus di tambahkan\n",
    "\n",
    "`export OPENMC_CROSS_SECTIONS=/path/to/cross_sections.xml`"
   ]
  },
  {
   "cell_type": "markdown",
   "metadata": {},
   "source": [
    "## <center> **Geometri** </center>"
   ]
  },
  {
   "cell_type": "markdown",
   "metadata": {},
   "source": [
    "Geometri model dalam OpenMC didefinisikan menggunakan constructive solid geometry (CSG), yang juga disebut geometri kombinatorial. CSG memungkinkan membuat wilayah yang kompleks menggunakan operator Boolean (interseksi, union, dan komplemen) pada wilayah yang lebih sederhana.\n",
    "\n",
    "[refrensi_geometri](https://docs.openmc.org/en/stable/usersguide/geometry.html)"
   ]
  },
  {
   "cell_type": "code",
   "execution_count": null,
   "metadata": {},
   "outputs": [],
   "source": [
    "sphere = openmc.Sphere(r=10.0)\n",
    "\n",
    "# This is equivalent\n",
    "sphere = openmc.Sphere()\n",
    "sphere.r = 10.0"
   ]
  },
  {
   "cell_type": "markdown",
   "metadata": {},
   "source": [
    "Setelah sebuah permukaan dibuat, half-space (setengah ruang) dapat diperoleh dengan menerapkan operator - atau +, yang masing-masing sesuai dengan negative half-space dan positive half-space.\n",
    "- **Negative half-space (-surface)**: Berisi semua titik yang memenuhi persamaan **𝑓(𝑥,𝑦,𝑧)<0, yaitu area di dalam permukaan**.\n",
    "- **Positive half-space (+surface)**: Berisi semua titik yang memenuhi persamaan **𝑓(𝑥,𝑦,𝑧)>0, yaitu area di luar permukaan**."
   ]
  },
  {
   "cell_type": "code",
   "execution_count": null,
   "metadata": {},
   "outputs": [],
   "source": [
    "sphere = openmc.Sphere(r=5.0)  # Membuat permukaan bola dengan jari-jari 5.0\n",
    "\n",
    "inside_sphere = -sphere  # Ruang di dalam bola (negative half-space)\n",
    "outside_sphere = +sphere  # Ruang di luar bola (positive half-space)"
   ]
  },
  {
   "cell_type": "markdown",
   "metadata": {},
   "source": [
    "Instance dari openmc.Halfspace dapat digabungkan menggunakan operator Boolean berikut:\n",
    "- **& (intersection)** → Menghasilkan wilayah yang merupakan **irisan dari dua atau lebih half-space**.\n",
    "- **| (union)** → Menghasilkan wilayah yang merupakan **gabungan dari dua atau lebih half-space**.\n",
    "- **~ (complement)** → Menghasilkan wilayah **komplemen dari suatu half-space (membalik inside ⇄ outside)**."
   ]
  },
  {
   "cell_type": "code",
   "execution_count": null,
   "metadata": {},
   "outputs": [],
   "source": [
    "# Mendefinisikan dua permukaan: bola dan silinder\n",
    "sphere = openmc.Sphere(r=5.0)\n",
    "cylinder = openmc.Cylinder(r=3.0, axis='z')\n",
    "\n",
    "# Menggunakan operator Boolean\n",
    "region_intersection = -sphere & -cylinder  # Wilayah di dalam bola dan di dalam silinder\n",
    "region_union = -sphere | -cylinder  # Wilayah di dalam bola atau di dalam silinder\n",
    "region_complement = ~(-sphere)  # Wilayah di luar bola"
   ]
  },
  {
   "cell_type": "markdown",
   "metadata": {},
   "source": [
    "Operator & dapat dianggap sebagai logika AND, | sebagai logika OR, dan ~ sebagai logika NOT.\n",
    "\n",
    "Sebagai contoh, membuat suatu wilayah yang terdiri dari −4 < z <−3 atau 3 < z < 4, kita dapat menggunakan operasi union (|):"
   ]
  },
  {
   "cell_type": "code",
   "execution_count": null,
   "metadata": {},
   "outputs": [],
   "source": [
    "# Mendefinisikan dua bidang horizontal pada z = -4, z = -3, z = 3, dan z = 4\n",
    "z_min1 = openmc.ZPlane(z0=-4)\n",
    "z_max1 = openmc.ZPlane(z0=-3)\n",
    "z_min2 = openmc.ZPlane(z0=3)\n",
    "z_max2 = openmc.ZPlane(z0=4)\n",
    "\n",
    "# Membuat dua region: -4 < z < -3 dan 3 < z < 4\n",
    "region_1 = +z_min1 & -z_max1  # Wilayah antara z = -4 dan z = -3\n",
    "region_2 = +z_min2 & -z_max2  # Wilayah antara z = 3 dan z = 4\n",
    "\n",
    "# Menggabungkan kedua region menggunakan operator |\n",
    "region_union = region_1 | region_2\n",
    "\n",
    "# atau\n",
    "region_bottom = +openmc.ZPlane(-4) & -openmc.ZPlane(-3)\n",
    "region_top = +openmc.ZPlane(3) & -openmc.ZPlane(4)\n",
    "combined_region = region_bottom | region_top"
   ]
  },
  {
   "cell_type": "markdown",
   "metadata": {},
   "source": [
    "#### **Kondisi Batas**\n",
    "\n",
    "Secara default, ketika sebuah surface dibuat dalam OpenMC, partikel yang melewatinya akan dianggap **transmisif, yaitu partikel dapat melewati permukaan dengan bebas**. Namun, perlu ditetapkan kondisi batas untuk partikel yang mencapai permukaan terluar.\n",
    "\n",
    "**Jenis kondisi batas**:\n",
    "- **Vacuum** → jika partikel mencapai batas ini akan **keluar dari sistem (hilang dari simulasi)**\n",
    "- **Reflective** → jika partikel mencapai batas akan **memantul kembali tanpa kehilangan energi**\n",
    "- **White** → mirip dengan **reflektif tetapi pantulan tidak selalu sejajar dengan sudut datang**\n",
    "- **Periodic** → jika partikel mencapai batas ini maka akan **muncul kembali dari batas lainnya dengan orientasi yang sama**\n",
    "\n",
    "untuk kondisi batas **reflective, periodic, dan white**, bisa diberikan nilai albedo untuk mengontol partikel setelah interaksi dengan batas.\n",
    "- albedo = 1 → dipantulkan sepenuhnya tanpa kehilangan energi\n",
    "- albedo < 1 → beberapa partikel diserap atau hilang\n",
    "- albedo = 0 → tidak ada pantulan, semua partikel diserap\n",
    "\n",
    "**Albedo adalah rasio partikel yang dipantulkan terhadap yang mengenai permukaan.**"
   ]
  },
  {
   "cell_type": "code",
   "execution_count": null,
   "metadata": {},
   "outputs": [],
   "source": [
    "x1 = openmc.XPlane(1.0, boundary_type='reflective', albedo=0.667)\n",
    "\n",
    "# Atau\n",
    "x1 = openmc.XPlane(1.0)\n",
    "x1.boundary_type = 'reflective'\n",
    "x1.albedo = 0.667"
   ]
  },
  {
   "cell_type": "markdown",
   "metadata": {},
   "source": [
    "#### **Cell**\n",
    "\n",
    "Setelah membuat material dan mendefinisikan suatu wilayah dalam ruang, langkah selanjutnya adalah mendefinisikan sel yang menetapkan material ke wilayah tersebut. Sel dibuat menggunakan kelas `openmc.Cell`. Dalam contoh ini, sebuah objek `openmc.Material` ditetapkan ke atribut `Cell.fill`"
   ]
  },
  {
   "cell_type": "code",
   "execution_count": null,
   "metadata": {},
   "outputs": [],
   "source": [
    "# Membuat material\n",
    "uo2 = openmc.Material()\n",
    "uo2.add_nuclide(\"U235\", 3.2E-5)\n",
    "uo2.add_nuclide(\"O16\", 2.1E-8)\n",
    "# Membuat area lingkaran dengan jari jari 3\n",
    "pellet = openmc.Sphere(r=3)\n",
    "\n",
    "# Membuat cell\n",
    "fuel = openmc.Cell(fill=uo2, region=-pellet)\n",
    "\n",
    "# Atau\n",
    "fuel = openmc.Cell()\n",
    "fuel.fill = uo2\n",
    "fuel.region = pellet"
   ]
  },
  {
   "cell_type": "markdown",
   "metadata": {},
   "source": [
    "Selain material, sebuah **sel juga dapat diisi dengan universe atau lattice.**\n",
    "\n",
    "Jika sebuah **sel tidak memiliki isi (fill) atau diisi dengan None**, maka sel tersebut akan **dianggap sebagai \"void\" (kosong)**, yang berarti tidak ada material di dalamnya. Partikel dapat bergerak melalui sel ini tanpa mengalami tumbukan:"
   ]
  },
  {
   "cell_type": "markdown",
   "metadata": {},
   "source": [
    "**Catatan:**\n",
    "> Kelas seperti Halfspace, Intersection, Union, dan Complement, serta semua objek dari openmc.Region, dapat ditetapkan ke atribut Cell.region untuk mendefinisikan batas wilayah sel."
   ]
  },
  {
   "cell_type": "markdown",
   "metadata": {},
   "source": [
    "#### **Universe**\n",
    "\n",
    "Universe, yaitu kumpulan sel yang dapat digunakan sebagai unit geometri yang berulang. Setidaknya harus ada satu \"root\" universe dalam model.\n",
    "\n",
    "Untuk mendefinisikan sebuah universe, buat sebuah instance dari openmc.Universe, lalu tambahkan sel menggunakan metode `Universe.add_cells()` atau `Universe.add_cell()`."
   ]
  },
  {
   "cell_type": "code",
   "execution_count": null,
   "metadata": {},
   "outputs": [],
   "source": [
    "universe = openmc.Universe(cells=[cell1, cell2, cell3])\n",
    "\n",
    "# atau\n",
    "universe = openmc.Universe()\n",
    "universe.add_cells([cell1, cell2])\n",
    "universe.add_cell(cell3)"
   ]
  },
  {
   "cell_type": "markdown",
   "metadata": {},
   "source": [
    "Setelah sebuah universe dibuat, kita bisa menggunakannya untuk menentukan sel atau material di lokasi tertentu menggunakan metode `Universe.find()`"
   ]
  },
  {
   "cell_type": "markdown",
   "metadata": {},
   "source": [
    "#### **Lattices**\n",
    "\n",
    "Banyak model transportasi partikel melibatkan struktur berulang dalam pola teratur, seperti kisi persegi panjang (rectangular lattice) atau heksagonal (hexagonal lattice). Jika harus mendefinisikan batas setiap sel yang diisi dengan universe, prosesnya akan sangat rumit. Oleh karena itu, OpenMC menyediakan cara untuk mendefinisikan struktur lattice melalui kelas `openmc.RectLattice` dan `openmc.HexLattice`."
   ]
  },
  {
   "cell_type": "markdown",
   "metadata": {},
   "source": [
    "1. **Rectangular Lattices**\n",
    "Kisi persegi panjang mendefinisikan array 2D atau 3D dari universe yang diisi ke dalam prisma berbentuk persegi panjang dengan ukuran yang sama. Untuk membuat rectangular lattice, kita harus menentukan:\n",
    "- **Koordinat sudut kiri bawah** dari kisi (`RectLattice.lower_left`).\n",
    "- **Pitch kisi**, yaitu jarak antara pusat elemen kisi yang berdekatan (`RectLattice.pitch`).\n",
    "- **Universes** yang mengisi setiap elemen kisi (`RectLattice.universes`).\n",
    "- **Outer universe**, yaitu universe yang digunakan untuk mengisi posisi kisi di luar bagian yang sudah didefinisikan (`RectLattice.outer`)."
   ]
  },
  {
   "cell_type": "code",
   "execution_count": null,
   "metadata": {},
   "outputs": [],
   "source": [
    "# Contoh 2D\n",
    "lattice = openmc.RectLattice()\n",
    "lattice.lower_left = (-7.5, -7.5)\n",
    "lattice.pitch = (5.0, 5.0)\n",
    "lattice.universes = [[u, u, u],\n",
    "                     [u, u, u],\n",
    "                     [u, u, u]]\n",
    "\n",
    "# Contoh 3D\n",
    "lat3d = openmc.RectLattice()\n",
    "lat3d.lower_left = (-7.5, -7.5, -7.5)\n",
    "lat3d.pitch = (5.0, 5.0, 5.0)\n",
    "lat3d.universes = [\n",
    "    [[u, u, u],\n",
    "     [u, u, u],\n",
    "     [u, u, u]],\n",
    "    [[q, q, q],\n",
    "     [q, q, q],\n",
    "     [q, q, q]],\n",
    "    [[z, z, z],\n",
    "     [z, z, z],\n",
    "     [z, z, z]]]"
   ]
  },
  {
   "cell_type": "markdown",
   "metadata": {},
   "source": [
    "2. **Hexagonal Lattice**\n",
    "OpenMC juga memungkinkan pembuatan kisi heksagonal 2D dan 3D. Cara pembuatannya mirip dengan kisi persegi panjang, dengan beberapa perbedaan:\n",
    "\n",
    "- Koordinat pusat kisi harus ditentukan (HexLattice.center).\n",
    "- Untuk kisi 2D, hanya satu nilai pitch yang perlu diberikan (dalam daftar [pitch]). Untuk kisi 3D, kita harus memberikan pitch dalam arah radial dan aksial.\n",
    "- Atribut HexLattice.universes tidak bisa diberikan dalam bentuk NumPy array.\n",
    "- Atribut HexLattice.outer dapat digunakan untuk menentukan outer universe.\n",
    "\n",
    "**Struktur Hexagonal Lattice**\n",
    "\n",
    "Pada kisi heksagonal 2D, HexLattice.universes diisi dengan daftar 2D yang menggambarkan isi setiap elemen kisi.\n",
    "- Setiap sub-list mewakili satu ring dari universe, dengan urutan dari ring terluar ke dalam.\n",
    "- Urutan universe dalam setiap sub-list dimulai dari posisi dengan y terbesar, lalu berputar searah jarum jam."
   ]
  },
  {
   "cell_type": "code",
   "execution_count": null,
   "metadata": {},
   "outputs": [],
   "source": [
    "# Contoh 2D\n",
    "hexlat = openmc.HexLattice()\n",
    "hexlat.center = (0, 0)\n",
    "hexlat.pitch = [10]\n",
    "\n",
    "outer_ring = [u, q, q, q, q, q, u, q, q, q, q, q]\n",
    "middle_ring = [u, q, q, u, q, q]\n",
    "inner_ring = [u]\n",
    "\n",
    "hexlat.universes = [outer_ring, middle_ring, inner_ring]"
   ]
  },
  {
   "cell_type": "markdown",
   "metadata": {},
   "source": [
    "Jika ingin membuat batas heksagonal yang terdiri dari 6 bidang datar, kita bisa menggunakan:"
   ]
  },
  {
   "cell_type": "code",
   "execution_count": null,
   "metadata": {},
   "outputs": [],
   "source": [
    "hex_prism = openmc.model.HexagonalPrism(edge_length=10.0)"
   ]
  },
  {
   "cell_type": "markdown",
   "metadata": {},
   "source": [
    "Mengecek cara menempatkan universe, bisa menggunakan:"
   ]
  },
  {
   "cell_type": "code",
   "execution_count": null,
   "metadata": {},
   "outputs": [],
   "source": [
    "print(openmc.HexLattice.show_indices(3))"
   ]
  },
  {
   "cell_type": "markdown",
   "metadata": {},
   "source": [
    "#### **Eksport model geometri**\n",
    "\n",
    "Setelah selesai membangun geometri dengan membuat permukaan (surface), sel (cell), dan jika diperlukan lattice, langkah terakhir adalah membuat instance dari `openmc.Geometry` dan mengekspornya ke dalam file XML. File ini dapat dibaca oleh eksekusi OpenMC menggunakan metode `Geometry.export_to_xml()`."
   ]
  },
  {
   "cell_type": "code",
   "execution_count": null,
   "metadata": {},
   "outputs": [],
   "source": [
    "geom = openmc.Geometry([cell1, cell2, cell3])\n",
    "geom.export_to_xml()"
   ]
  },
  {
   "cell_type": "markdown",
   "metadata": {},
   "source": [
    "## <Center> **Execution Settings** </Center>"
   ]
  },
  {
   "cell_type": "markdown",
   "metadata": {},
   "source": [
    "Setelah membuat material dan geometri untuk simulasi, langkah terakhir untuk memiliki model yang lengkap adalah menetapkan pengaturan eksekusi melalui kelas `openmc.Settings`.\n",
    "\n",
    "Setidaknya, perlu ditentukan:\n",
    "- Distribusi sumber (source distribution)\n",
    "- Jumlah partikel yang akan dijalankan"
   ]
  },
  {
   "cell_type": "markdown",
   "metadata": {},
   "source": [
    "Atribut `Settings.run_mode` menentukan mode eksekusi yang digunakan saat OpenMC dijalankan. OpenMC mendukung lima mode eksekusi berikut:\n",
    "\n",
    "1. `eigenvalue`\n",
    "- Menjalankan simulasi nilai eigen 𝑘 (keff) untuk menghitung multiplikasi neutron.\n",
    "- Digunakan dalam perhitungan reaktor kritikalitas.\n",
    "- Sumber awal hanya digunakan untuk generasi fisi pertama.\n",
    "\n",
    "2. `fixed source`\n",
    "- Menjalankan simulasi dengan sumber tetap, menggunakan sumber eksternal yang ditentukan pada `Settings.source`.\n",
    "- Cocok untuk simulasi aktivasi, sumber neutron eksternal, atau deteksi radiasi.\n",
    "\n",
    "3. `volume`\n",
    "- Menjalankan perhitungan volume stokastik, biasanya digunakan untuk menentukan volume rata-rata material dalam suatu geometri.\n",
    "\n",
    "4. `plot`\n",
    "- Menghasilkan plot slice atau voxel untuk visualisasi geometri (lihat Geometry Visualization dalam dokumentasi OpenMC).\n",
    "\n",
    "5. `particle restart`\n",
    "- Menjalankan simulasi satu partikel dari file restart partikel sebelumnya.\n",
    "Digunakan untuk debugging atau analisis jalur partikel tertentu."
   ]
  },
  {
   "cell_type": "code",
   "execution_count": null,
   "metadata": {},
   "outputs": [],
   "source": [
    "settings = openmc.Settings()\n",
    "settings.run_mode = 'fixed source'"
   ]
  },
  {
   "cell_type": "markdown",
   "metadata": {},
   "source": [
    "Jika `run_mode` tidak ditentukan, OpenMC akan menggunakan mode default `eigenvalue`."
   ]
  },
  {
   "cell_type": "markdown",
   "metadata": {},
   "source": [
    "Strategi eksekusi dalam OpenMC bergantung pada jenis simulasi yang dijalankan:\n",
    "1. **Simulasi Sumber Tetap ('fixed source')**\n",
    "- Total jumlah partikel sumber dibagi menjadi sejumlah batch.\n",
    "- `Settings.batches` → Menentukan jumlah batch.\n",
    "- `Settings.particles` → Menentukan jumlah partikel per batch.\n",
    "2. **Simulasi Eigenvalue ('eigenvalue')**\n",
    "- Partikel dikelompokkan dalam generasi fisi (fission generations).\n",
    "- Beberapa generasi fisi dapat digabungkan dalam satu batch untuk keperluan statistik.\n",
    "- `Settings.generations_per_batch` → Menentukan jumlah generasi fisi per batch.\n",
    "- `Settings.inactive` → Menentukan jumlah batch awal yang diabaikan sebelum tally mulai dikumpulkan.\n",
    "- Untuk rasio dominasi tinggi, menggunakan beberapa generasi per batch dapat mengurangi kesalahan dalam estimasi variansi, meningkatkan keakuratan interval kepercayaan."
   ]
  },
  {
   "cell_type": "code",
   "execution_count": null,
   "metadata": {},
   "outputs": [],
   "source": [
    "settings.particles = 10000\n",
    "settings.generations_per_batch = 10\n",
    "settings.batches = 150\n",
    "settings.inactive = 5"
   ]
  },
  {
   "cell_type": "markdown",
   "metadata": {},
   "source": [
    "Jumlah batch dalam simulasi Monte Carlo mengacu pada pembagian keseluruhan riwayat partikel ke dalam beberapa kelompok (batch) untuk tujuan pengolahan statistik.\n",
    "Untuk simulasi nilai eigen 𝑘, partikel dikelompokkan ke dalam generasi fisi, seperti yang dijelaskan dalam perhitungan nilai eigen. Secara default, satu batch hanya terdiri dari satu generasi fisi, tetapi ini dapat diubah dengan atribut `Settings.generations_per_batch`. \n",
    "\n",
    "**Fungsi Jumlah Batch dalam Simulasi Monte Carlo:**\n",
    "1. Meningkatkan Estimasi Statistik:\n",
    "- Dalam simulasi Monte Carlo, hasil dihitung berdasarkan sampel acak. Dengan membagi simulasi menjadi beberapa batch, statistik seperti rata-rata dan varians dapat dihitung dengan lebih baik.\n",
    "\n",
    "2. Mengurangi Korelasi Antar Sampel:\n",
    "- Dalam perhitungan nilai eigen 𝑘, korelasi antar generasi fisi dapat menyebabkan bias dalam estimasi varians. Dengan menggunakan beberapa batch, korelasi ini dapat dikurangi.\n",
    "\n",
    "3. Memungkinkan Pemanasan (Burn-in) Simulasi:\n",
    "- Pada awal simulasi, distribusi sumber mungkin belum mencapai kondisi stabil. Oleh karena itu, beberapa batch pertama bisa dibuang (disebut inactive batches) agar hasil perhitungan lebih representatif.\n",
    "\n",
    "**Jumlah Batch dalam Dua Jenis Simulasi:**\n",
    "1. Simulasi Sumber Tetap:\n",
    "- Jumlah batch (Settings.batches) menentukan berapa banyak kelompok sejarah partikel yang digunakan untuk estimasi.\n",
    "Misalnya, jika total simulasi menjalankan 1 juta partikel dan ada 100 batch, maka setiap batch akan mensimulasikan 10.000 partikel.\n",
    "\n",
    "2. Simulasi Nilai Eigen 𝑘:\n",
    "- Batch dapat terdiri dari beberapa generasi fisi.\n",
    "Jika menggunakan 10 generasi per batch dan ada 150 batch, maka total simulasi melibatkan 10 × 150 = 1500 generasi fisi.\n",
    "Beberapa batch awal dapat dibuang untuk menghindari hasil yang dipengaruhi oleh distribusi sumber yang belum konvergen."
   ]
  },
  {
   "cell_type": "markdown",
   "metadata": {},
   "source": [
    "## <Center> **Tally** </Center>"
   ]
  },
  {
   "cell_type": "markdown",
   "metadata": {},
   "source": [
    "**Tally digunakan untuk mengukur besaran fisika selama simulasi transportasi partikel, seperti fluks neutron, laju reaksi fisi, atau pemanasan**. Tally memungkinkan kita untuk mengumpulkan data dari partikel yang disimulasikan."
   ]
  },
  {
   "cell_type": "markdown",
   "metadata": {},
   "source": [
    "**Komponen Input untuk Tally**\n",
    "1. Score\n",
    "> Menentukan jenis besaran fisika yang akan diukur. Contoh nilai score yang umum:\n",
    "- `flux`: Fluks neutron.\n",
    "- `fission`: Laju reaksi fisi.\n",
    "- `absorption`: Laju penyerapan neutron.\n",
    "- `(n,gamma)`: Laju reaksi tangkapan neutron (capture).\n",
    "- `heating`: Pemanasan lokal akibat reaksi.\n",
    "\n",
    "2. Filter\n",
    "> Membatasi ruang fase (spasial, energi, waktu, dll.) di mana tally berlaku. Jenis filter yang umum:\n",
    "- Spatial:\n",
    "1. `CellFilter`: Berdasarkan sel geometri.\n",
    "2. `MaterialFilter`: Berdasarkan material.\n",
    "3. `SurfaceFilter`: Berdasarkan permukaan.\n",
    "\n",
    "- Energi:\n",
    "1. `EnergyFilter`: Spektrum energi neutron (misal: grup energi).\n",
    "2. `EnergyoutFilter`: Energi neutron setelah tumbukan.\n",
    "\n",
    "- Lainnya:\n",
    "1. `TimeFilter`: Untuk simulasi bergantung waktu.\n",
    "2. `UniverseFilter`: Berdasarkan universe dalam geometri."
   ]
  },
  {
   "cell_type": "code",
   "execution_count": null,
   "metadata": {},
   "outputs": [],
   "source": [
    "# Buat filter sel dan energi\n",
    "cell_filter = openmc.CellFilter([1, 2])  # ID sel yang ingin di-tally\n",
    "energy_filter = openmc.EnergyFilter([0, 1e6, 20e6])  # Batas grup energi (dalam eV)\n",
    "\n",
    "# Buat tally\n",
    "tally = openmc.Tally(name='flux_in_cell')\n",
    "tally.id = 1\n",
    "tally.filters = [cell_filter, energy_filter]\n",
    "tally.scores = ['flux']\n",
    "tally.nuclides = ['U235']  # Opsional, jika diperlukan\n",
    "\n",
    "# Tambahkan ke objek Tallies\n",
    "tallies = openmc.Tallies([tally])"
   ]
  },
  {
   "cell_type": "markdown",
   "metadata": {},
   "source": [
    "**Catatan:**\n",
    ">Tally hanya berfungsi jika geometri, material, dan sumber partikel telah didefinisikan dengan benar. Untuk tally energi, pastikan grup energi sesuai dengan grup (misal: termal, cepat)."
   ]
  },
  {
   "cell_type": "markdown",
   "metadata": {},
   "source": [
    "# <center> **Latihan OpenMC** </center> "
   ]
  },
  {
   "cell_type": "markdown",
   "metadata": {},
   "source": [
    "### **Jezebel**\n",
    "Jezebel adalah nama kode untuk sebuah eksperimen nuklir kritis (criticality experiment) yang dilakukan di Los Alamos National Laboratory pada tahun 1950-an. Eksperimen ini bertujuan untuk mempelajari perilaku reaksi fisi nuklir dalam sistem inti plutonium-239 (Pu-239) murni tanpa bahan moderator.\n",
    "\n",
    "Parameter :\n",
    "1. Bola logam Pu: jari-jari = 6,3849 cm\n",
    "- $N_{239}$ = Kerapatan atom $Pu^{239}$ 3,7047e-2 atom/barn-cm\n",
    "- $N_{240}$ = Kerapatan atom $Pu^{240}$ 1,7512e-3 atom/barn-cm\n",
    "- $N_{241}$ = Kerapatan atom $Pu^{241}$ 1,1674e-4 atom/barn-cm\n",
    "- $N_{Ga}$ = Kerapatan atom Ga 1,3752e-3 atom/barn-cm\n",
    "2. Lapisan nikel berbentuk bola: Ketebalan = 0,0127 cm\n",
    "- $N_{Ni}$ = Kerapatan atom Ni 9,3122e-2 atom/barn-cm"
   ]
  },
  {
   "cell_type": "code",
   "execution_count": null,
   "metadata": {},
   "outputs": [],
   "source": [
    "import openmc\n",
    "\n",
    "# Mendefinisikan material\n",
    "# Membuat bola logam Pu\n",
    "Pu_metal_sphere = openmc.Material()\n",
    "Pu_metal_sphere.add_nuclide(\"Pu239\", 3.7047E-2)\n",
    "Pu_metal_sphere.add_nuclide(\"Pu240\", 1.7512E-3)\n",
    "Pu_metal_sphere.add_nuclide(\"Pu241\", 1.1674E-4)\n",
    "Pu_metal_sphere.add_element(\"Ga\", 1.3752E-3)\n",
    "# Membuat lapisan nikel\n",
    "Spherical_nickel_coating = openmc.Material()\n",
    "Spherical_nickel_coating.add_element(\"Ni\", 9.3122E-2)\n",
    "# Eksport ke format XML\n",
    "materials = openmc.Materials([Pu_metal_sphere, Spherical_nickel_coating])\n",
    "materials.export_to_xml()\n",
    "\n",
    "# Membuat geometri\n",
    "# Membuat bola logam Pu dengan jari jari 6,3849\n",
    "Pu_sphere = openmc.Sphere(r=6.3849, boundary_type='vacuum')\n",
    "fuel = openmc.Cell(name=\"fuel\")\n",
    "fuel.fill = Pu_metal_sphere\n",
    "fuel.region = -Pu_sphere\n",
    "# Membuat lapisan nikel dengan jari-jari 6.3976\n",
    "Nickel_coating = openmc.Sphere(r=6.3976)\n",
    "coating = openmc.Cell(name=\"coating\")\n",
    "coating.fill = Spherical_nickel_coating\n",
    "coating.region = -Nickel_coating\n",
    "# Eksport ke format XML\n",
    "geom = openmc.Geometry([fuel, coating])\n",
    "geom.export_to_xml()\n",
    "\n",
    "# Pengaturan simulasi\n",
    "settings = openmc.Settings()\n",
    "settings.batches = 200          # Total generasi\n",
    "settings.inactive = 10          # Generasi yang diabaikan\n",
    "settings.particles = 100000     # Jumlah neutron per generasi\n",
    "settings.export_to_xml()\n",
    "\n",
    "# Menjalankan simulasi\n",
    "openmc.run()"
   ]
  }
 ],
 "metadata": {
  "kernelspec": {
   "display_name": "openmc-env",
   "language": "python",
   "name": "python3"
  },
  "language_info": {
   "codemirror_mode": {
    "name": "ipython",
    "version": 3
   },
   "file_extension": ".py",
   "mimetype": "text/x-python",
   "name": "python",
   "nbconvert_exporter": "python",
   "pygments_lexer": "ipython3",
   "version": "3.11.6"
  }
 },
 "nbformat": 4,
 "nbformat_minor": 2
}

{
 "cells": [
  {
   "cell_type": "markdown",
   "metadata": {},
   "source": [
    "# <center> **Pengantar OpenMC** </center> "
   ]
  },
  {
   "cell_type": "markdown",
   "metadata": {},
   "source": [
    "**Dhiya Salma Salsabila/24923304**"
   ]
  },
  {
   "cell_type": "markdown",
   "metadata": {},
   "source": [
    "### **Pendahuluan**\n",
    "**OpenMC** mensimulasikan partikel berupa **neutron dan foton** yang **bergerak secara stokastik (acak)** melalui sebuah **model yang di definisikan secara arbitrer (bebas)**.\n",
    "\n",
    "<p>\n",
    "\n",
    "Dalam reaktor nuklir, **neutron menjadi sangat penting karena dapat menyebabkan reaksi fisi**. Dengan mengetahui perilaku neutron maka dapat **menentukan seberapa sering reaksi fisi terjadi**. Hal ini juga **sebanding dengan energi yang dihasilkan**. "
   ]
  },
  {
   "cell_type": "markdown",
   "metadata": {},
   "source": [
    "#### **Deterministrik**\n",
    "Dalam metode ini diselesaikan dengan persamaan yang dapat **menggambarkan perilaku rata-rata partikel** atau biasa di sebut dengan **persamaan transport neutron**\n",
    "<p>\n",
    "\n",
    "Persamaan ini merupakan **persamaan berdimensi tujuh (tiga dimensi untuk ruang, tiga untuk kecepatan, dan satu untuk waktu)** yang sangat sulit diselesaikan secara langsung. Untuk semua kasus, kecuali masalah yang paling sederhana, diperlukan beberapa bentuk diskretisasi. \n",
    "<p>\n",
    "\n",
    "**Diskretisasi dilakukan dengan membagi seluruh ruang menjadi bagian-bagian kecil yang homogen**, kemudian menyelesaikan persamaan pada bagian-bagian kecil tersebut. Setelah melakukan diskretisasi dan berbagai pendekatan lainnya, kita dapat menghasilkan bentuk persamaan yang sesuai untuk diselesaikan dengan komputer. **Di antaranya adalah metode ordinat diskret, metode karakteristik, difusi beda hingga, dan metode nodal (pemecahan diferensial parsial)**.\n",
    "<p>\n",
    "\n",
    "**Kelebihan:**\n",
    "\n",
    "- Kecepatan solusi: Tergantung pada metode yang digunakan, solusi dapat ditentukan dengan sangat cepat.\n",
    "- Solusi global: Solusi yang dihasilkan adalah solusi global, artinya kita mengetahui perilaku rata-rata di seluruh domain.\n",
    "- Kepastian solusi: Setelah masalah mencapai konvergensi, solusinya diketahui dengan pasti.\n",
    "<p>\n",
    "\n",
    "**Kekurangan:**\n",
    "\n",
    "- Kerumitan model kompleks: Jika modelnya rumit, diperlukan pembuatan mesh yang canggih dan kompleks.\n",
    "- Persiapan penampang multi-grup: Diperlukan penampang multi-grup yang memerlukan pengetahuan solusi sebelumnya (a priori).\n",
    "\n",
    "#### **Monte Carlo**\n",
    "Dalam metode ini menentukan perilaku rata-rata berbagai kuantitas fisik dalam suatu sistem\n",
    "<p>\n",
    "\n",
    "**Kelebihan:**\n",
    "\n",
    "- Tanpa pembuatan mesh: Tidak diperlukan pembuatan mesh untuk membangun geometri. Dengan menggunakan constructive solid geometry (CSG), dimungkinkan untuk membuat model kompleks dengan permukaan melengkung.\n",
    "- Fleksibilitas dalam penampang energi: Metode Monte Carlo dapat digunakan baik dengan penampang energi kontinu maupun multi-grup.\n",
    "- Kemudahan simulasi paralel: Menjalankan simulasi secara paralel secara konsep sangat sederhana.\n",
    "<p>\n",
    "\n",
    "**Kekurangan:**\n",
    "\n",
    "- Biaya komputasi tinggi: Karena bergantung pada pengambilan sampel acak berulang, metode ini memerlukan komputasi yang sangat mahal.\n",
    "- Tidak otomatis memberikan solusi global: Simulasi tidak secara otomatis memberikan solusi global di seluruh domain – Anda harus secara spesifik meminta kuantitas yang diinginkan.\n",
    "- Ketidakpastian stokastik: Bahkan setelah masalah mencapai konvergensi, diperlukan simulasi banyak partikel untuk mengurangi ketidakpastian stokastik."
   ]
  },
  {
   "cell_type": "markdown",
   "metadata": {},
   "source": [
    "#### **Satuan dalam OpenMC**\n",
    "- Panjang : centimeter\n",
    "- Energi : electronvolt\n",
    "- Waktu : second"
   ]
  },
  {
   "cell_type": "markdown",
   "metadata": {},
   "source": [
    "### **Update Versi OpenMC**"
   ]
  },
  {
   "cell_type": "markdown",
   "metadata": {},
   "source": [
    "1. **Update Repository OpenMC**\n",
    "- cd ~/openmc  # Sesuaikan dengan lokasi instalasi OpenMC\n",
    "- git fetch --all  # Ambil semua perubahan terbaru dari repository\n",
    "- git tag # Mengecek versi yang tersedia\n",
    "- git checkout v0.15.0  # Pindah ke versi terbaru\n",
    "- git pull origin v0.15.0  # Pastikan kode terbaru diambil\n",
    "\n",
    "2. **Build Ulang OpenMC**\n",
    "- cd ~/openmc  # Sesuaikan dengan lokasi repository OpenMC Anda\n",
    "- rm -rf build  # Hapus folder build lama (opsional tapi disarankan)\n",
    "- mkdir build && cd build\n",
    "- cmake ..\n",
    "- make -j$(nproc)\n",
    "- sudo make install  # Instal ulang\n",
    "\n",
    "3. **Konfigurasi ke python untuk versi terbaru**\n",
    "- pip uninstall openmc\n",
    "- pip install --no-cache-dir .\n",
    "\n",
    "4. **Cek versi**\n",
    "- openmc --version\n",
    "- git log -1"
   ]
  },
  {
   "cell_type": "markdown",
   "metadata": {},
   "source": [
    "### **Trik cepat paham OpenMC**\n",
    "\n",
    "Jika sudah terbiasa dalam bahasa pemrograman openmc menyediakan python API, dimana setiap dokumentasi dituliskan dan dapat diakses dengan fitur `help()`.\n",
    "\n",
    "[OpenMC API](https://docs.openmc.org/en/stable/pythonapi/index.html)"
   ]
  },
  {
   "cell_type": "code",
   "execution_count": 2,
   "metadata": {},
   "outputs": [
    {
     "name": "stdout",
     "output_type": "stream",
     "text": [
      "Help on method mix_materials in module openmc.material:\n",
      "\n",
      "mix_materials(materials, fracs: 'typing.Iterable[float]', percent_type: 'str' = 'ao', name: 'Optional[str]' = None) -> 'Material' method of builtins.type instance\n",
      "    Mix materials together based on atom, weight, or volume fractions\n",
      "    \n",
      "    .. versionadded:: 0.12\n",
      "    \n",
      "    Parameters\n",
      "    ----------\n",
      "    materials : Iterable of openmc.Material\n",
      "        Materials to combine\n",
      "    fracs : Iterable of float\n",
      "        Fractions of each material to be combined\n",
      "    percent_type : {'ao', 'wo', 'vo'}\n",
      "        Type of percentage, must be one of 'ao', 'wo', or 'vo', to signify atom\n",
      "        percent (molar percent), weight percent, or volume percent,\n",
      "        optional. Defaults to 'ao'\n",
      "    name : str\n",
      "        The name for the new material, optional. Defaults to concatenated\n",
      "        names of input materials with percentages indicated inside\n",
      "        parentheses.\n",
      "    \n",
      "    Returns\n",
      "    -------\n",
      "    openmc.Material\n",
      "        Mixture of the materials\n",
      "\n"
     ]
    }
   ],
   "source": [
    "import openmc\n",
    "help(openmc.Material.mix_materials)"
   ]
  },
  {
   "cell_type": "markdown",
   "metadata": {},
   "source": [
    "## <Center> **Konfigurasi Data Nuklir** </Center>\n",
    "OpenMC menggunakan format HDF5, namun jika kita memiliki data dalam format ACE yang telah di olah NJOY seperti yang biasa di pakai dalam MCNP atau Serpent maka data tersebut harus di konversi terlebih dahulu ke HDF5."
   ]
  },
  {
   "cell_type": "markdown",
   "metadata": {},
   "source": [
    "##### **Mengolah format ACE**"
   ]
  },
  {
   "cell_type": "code",
   "execution_count": 3,
   "metadata": {},
   "outputs": [],
   "source": [
    "import openmc\n",
    "# Contoh\n",
    "u235 = openmc.data.IncidentNeutron.from_ace('92235.710nc')\n",
    "u235.export_to_hdf5('U235.h5')"
   ]
  },
  {
   "cell_type": "markdown",
   "metadata": {},
   "source": [
    "Jika terdapat beberapa file dengan format ACE untuk nuklida yang sama tetapi suhu yang berbeda maka dapat digunakan "
   ]
  },
  {
   "cell_type": "code",
   "execution_count": null,
   "metadata": {},
   "outputs": [],
   "source": [
    "# Interaksi neutron, untuk simulasi interaksi neutron dengan bahan pada berbagai suhu\n",
    "u235 = openmc.data.IncidentNeutron.from_ace('92235.710nc')\n",
    "for suffix in [711, 712, 713, 714, 715, 716]:\n",
    "    u235.add_temperature_from_ace('92235.{}nc'.format(suffix))\n",
    "u235.export_to_hdf5('U235.h5')\n",
    "\n",
    "# Hamburan termal, untuk simulasi interaksi neutron dengan bahan pada suhu rendah, di mana efek hamburan termal signifikan\n",
    "light_water = openmc.data.ThermalScattering.from_ace('lwtr.20t')\n",
    "for suffix in range(21, 28):\n",
    "    light_water.add_temperature_from_ace('lwtr.{}t'.format(suffix))\n",
    "light_water.export_to_hdf5('lwtr.h5')"
   ]
  },
  {
   "cell_type": "markdown",
   "metadata": {},
   "source": [
    "Setelah semua file ACE sudah di ubah ke dalam HDF5, maka file harus di ekspor ke dalam XML"
   ]
  },
  {
   "cell_type": "code",
   "execution_count": null,
   "metadata": {},
   "outputs": [],
   "source": [
    "library = openmc.data.DataLibrary()\n",
    "library.register_file('U235.h5')\n",
    "library.register_file('lwtr.h5')\n",
    "...\n",
    "library.export_to_xml()"
   ]
  },
  {
   "cell_type": "markdown",
   "metadata": {},
   "source": [
    "#### **Mengolah dari ENDF**"
   ]
  },
  {
   "cell_type": "code",
   "execution_count": null,
   "metadata": {},
   "outputs": [],
   "source": [
    "# Contoh penambahan Zr-92, temperatur default 293.6 K\n",
    "zr92 = openmc.data.IncidentNeutron.from_njoy('n-040_Zr_092.endf')\n",
    "\n",
    "# Contoh penambahan dengan beberapa temperatur\n",
    "zr92 = openmc.data.IncidentNeutron.from_njoy(\n",
    "    'n-040_Zr_092.endf', temperatures=[300., 600., 1000.])"
   ]
  },
  {
   "cell_type": "markdown",
   "metadata": {},
   "source": [
    "#### **Photon Cross Section**"
   ]
  },
  {
   "cell_type": "code",
   "execution_count": null,
   "metadata": {},
   "outputs": [],
   "source": [
    "# Dari ACE\n",
    "u = openmc.data.IncidentPhoton.from_ace('92000.12p')\n",
    "u.export_to_hdf5('U.h5')\n",
    "\n",
    "# Dari ENDF\n",
    "u = openmc.data.IncidentPhoton.from_endf('photoat-092_U_000.endf',\n",
    "                                         'atom-092_U_000.endf')"
   ]
  },
  {
   "cell_type": "markdown",
   "metadata": {},
   "source": [
    "## <Center> **Running OpenMC** </Center>\n",
    "untuk menjalanlan OpenMC, hal utama yang harus dilakukan ialah membuat file XML yang menggambarkan model yang akan disimulasikan. Ada 3 file yang diperlukan :\n",
    "- **materials.xml**, file ini berisi **material apa yang ada dalam model** dan dari apa material tersebut terdiri. Selain itu, file ini menunjukkan di mana OpenMC harus mencari perpustakaan penampang lintang.\n",
    "- **geometry.xml**, file ini menjelaskan bagaimana material yang **didefinisikan dalam materials.xml menempati wilayah ruang**. Volume fisik didefinisikan menggunakan geometri padat konstruktif, dijelaskan secara rinci dalam Mendefinisikan Geometri.\n",
    "- **settings.xml**, file ini menunjukkan **mode apa yang harus dijalankan OpenMC**, berapa banyak partikel yang akan disimulasikan, definisi sumber, dan berbagai opsi lainnya.\n",
    "- **tallies.xml**, file ini menjelaskan **kuantitas fisik apa yang harus dihitung selama simulasi (fluks, laju reaksi, arus, dll.)**.\n",
    "- **plots.xml**, file ini memberikan **spesifikasi untuk menghasilkan plot irisan atau voxel dari geometri**."
   ]
  },
  {
   "cell_type": "code",
   "execution_count": null,
   "metadata": {},
   "outputs": [],
   "source": [
    "# Create materials\n",
    "materials = openmc.Materials()\n",
    "...\n",
    "materials.export_to_xml()\n",
    "\n",
    "# Create geometry\n",
    "geometry = openmc.Geometry()\n",
    "...\n",
    "geometry.export_to_xml()\n",
    "\n",
    "# Assign simulation settings\n",
    "settings = openmc.Settings()\n",
    "...\n",
    "settings.export_to_xml()"
   ]
  },
  {
   "cell_type": "markdown",
   "metadata": {},
   "source": [
    "## <center> **Material** </center>\n"
   ]
  },
  {
   "cell_type": "markdown",
   "metadata": {},
   "source": [
    "Material dalam OpenMC didefinisikan sebagai sekumpulan nuklida/elemen dengan densitas tertentu dan dibuat menggunakan `openmc.Material`. Setelah sebuah material dibuat, nuklida dapat ditambahkan dengan `Material.add_nuclide()` dan elemen dapat ditambahkan dengan `Material.add_element()`. \n",
    "> **Densitas ditentukan menggunakan fraksi atom atau fraksi massa**\n",
    "- **Elemen, zat kimia murni** yang terdiri dari atom dengan jumlah proton yang sama dalam intinya. Dicirikan oleh nomor atom (Z), misalnya: Hidrogen (H, Z=1), Karbon (C, Z=6), Uranium (U, Z=92).\n",
    "- **Nuklida, inti atom tertentu yang ditentukan oleh jumlah proton (Z) dan neutron (N)**. misalnya: Uranium-235 (²³⁵U): Z = 92, N = 143, A = 235"
   ]
  },
  {
   "cell_type": "code",
   "execution_count": null,
   "metadata": {},
   "outputs": [],
   "source": [
    "mat = openmc.Material()\n",
    "# material Gd-152 dengan 0,5 persen atom\n",
    "mat.add_nuclide('Gd152', 0.5, 'ao')"
   ]
  },
  {
   "cell_type": "markdown",
   "metadata": {},
   "source": [
    "Densitas yang ditentukan untuk setiap nuklida/elemen bersifat relatif dan akan dinormalisasi berdasarkan densitas total material. \n",
    "\n",
    "**Densitas total diatur menggunakan metode `Material.set_density()`**. \n",
    "\n",
    "Densitas dapat ditentukan dalam gram per sentimeter kubik (g/cm3), atom per barn-cm (atom/b-cm), atau kilogram per meter kubik (kg/m3)."
   ]
  },
  {
   "cell_type": "markdown",
   "metadata": {},
   "source": [
    "- 'sum' → Kepadatan total dihitung dengan menjumlahkan kepadatan atom dari masing-masing nuklida.\n",
    "- 'macro' → Menentukan kepadatan makroskopik langsung dalam satuan atoms/barn-cm.\n",
    "- 'atom/b-cm' atau 'atom/barn-cm' → Kepadatan ditentukan dalam jumlah atom per barn-cm³.\n",
    "- 'g/cm3' → Kepadatan dalam satuan gram per cm³.\n",
    "- 'kg/m3' → Kepadatan dalam satuan kilogram per meter kubik.\n",
    "- 'mol/cm3' → Kepadatan dalam satuan mol per cm³."
   ]
  },
  {
   "cell_type": "code",
   "execution_count": null,
   "metadata": {},
   "outputs": [],
   "source": [
    "# contoh sum\n",
    "pu = openmc.Material()\n",
    "pu.set_density('sum')\n",
    "pu.add_nuclide('Pu239', 3.7047e-02)\n",
    "pu.add_nuclide('Pu240', 1.7512e-03)\n",
    "pu.add_nuclide('Pu241', 1.1674e-04)\n",
    "pu.add_element('Ga', 1.3752e-03)\n",
    "mats = openmc.Materials([pu])\n",
    "mats.export_to_xml()\n",
    "\n",
    "# contoh\n",
    "mat.set_density('g/cm3', 10.5) # Menetapkan kepadatan dalam g/cm³\n",
    "mat.set_density('atom/b-cm', 0.05) # Kepadatan dalam atom per barn-cm"
   ]
  },
  {
   "cell_type": "markdown",
   "metadata": {},
   "source": [
    "Metode `Material.add_element()` bekerja dengan cara yang sama seperti `Material.add_nuclide()`, tetapi alih-alih menentukan satu isotop dari suatu elemen, Anda menentukan elemen itu sendiri."
   ]
  },
  {
   "cell_type": "code",
   "execution_count": null,
   "metadata": {},
   "outputs": [],
   "source": [
    "mat.add_element('C', 1.0)\n",
    "#atau\n",
    "mat.add_element('aluminium', 1.0)"
   ]
  },
  {
   "cell_type": "markdown",
   "metadata": {},
   "source": [
    "OpenMC menyimpan data mengenai massa atom dan kelimpahan alami dari semua isotop yang diketahui, lalu menggunakan data ini untuk menentukan isotop mana yang harus ditambahkan ke material. Ketika material diekspor ke XML untuk digunakan oleh eksekusi OpenMC, elemen alami apa pun akan otomatis diubah menjadi isotop-isotop yang terjadi secara alami."
   ]
  },
  {
   "cell_type": "markdown",
   "metadata": {},
   "source": [
    "Metode `Material.add_element()` juga dapat digunakan untuk menambahkan uranium dengan tingkat pengayaan tertentu melalui argumen `enrichment`"
   ]
  },
  {
   "cell_type": "code",
   "execution_count": null,
   "metadata": {},
   "outputs": [],
   "source": [
    "# uranium dengan pengayaan 3,2%\n",
    "mat.add_element('U', 1.0, enrichment=3.2)"
   ]
  },
  {
   "cell_type": "markdown",
   "metadata": {},
   "source": [
    "Pengayaan juga dapat dilakukan untuk elemen yang terdiri dari dua isotop alami (misalnya, Li atau B) dalam satuan persen atom. Untuk mengaktifkan ini, tambahkan argumen `enrichment_target` ke `Material.add_element()`."
   ]
  },
  {
   "cell_type": "code",
   "execution_count": null,
   "metadata": {},
   "outputs": [],
   "source": [
    "# Pengayaan B-10 hingga 30%\n",
    "mat.add_element('B', 1.0, enrichment=30.0, enrichment_target='B10')"
   ]
  },
  {
   "cell_type": "markdown",
   "metadata": {},
   "source": [
    "Untuk mengayakan suatu isotop dalam satuan persen massa (`wo%`), tambahkan argumen tambahan `enrichment_type`."
   ]
  },
  {
   "cell_type": "code",
   "execution_count": null,
   "metadata": {},
   "outputs": [],
   "source": [
    "# Pengayaan Li-6 hingga 15% berat\n",
    "mat.add_element('Li', 1.0, enrichment=15.0, enrichment_target='Li6',\n",
    "                enrichment_type='wo')"
   ]
  },
  {
   "cell_type": "markdown",
   "metadata": {},
   "source": [
    "**Catatan**:\n",
    "> Seringkali, pustaka penampang lintang tidak benar-benar memiliki semua isotop alami dari suatu elemen. Misalnya, dalam ENDF/B-VII.1, evaluasi penampang lintang tersedia untuk O-16 dan O-17 tetapi tidak untuk O-18. Jika OpenMC mengetahui pustaka penampang lintang yang akan Anda gunakan (melalui variabel lingkungan OPENMC_CROSS_SECTIONS), maka OpenMC akan mencoba hanya memasukkan isotop yang memiliki data penampang lintang dalam model. Dalam kasus oksigen pada ENDF/B-VII.1, kelimpahan O-18 akan digabungkan dengan O-16."
   ]
  },
  {
   "cell_type": "markdown",
   "metadata": {},
   "source": [
    "### **Thermal Scattering**"
   ]
  },
  {
   "cell_type": "markdown",
   "metadata": {},
   "source": [
    "Jika terdapat material moderator seperti air atau grafit, maka harus ditetapkan data hamburan termal (yang disebut S(α,β)) menggunakan metode `Material.add_s_alpha_beta()`. \n",
    "\n",
    "Dalam simulasi fisika sangat penting karena tabel ini menyediakan data penampang atom terikat yang lebih akurat pada energi termal. Tanpa tabel ini, simulasi hanya akan menggunakan penampang atom bebas, yang tidak mencerminkan interaksi atom dalam keadaan terikat, seperti dalam molekul air.\n",
    "\n",
    "`Material.add_s_alpha_beta()` membantu memperhitungkan efek-efek seperti hamburan dan penyerapan neutron oleh atom-atom yang terikat dalam molekul, yang sangat berbeda dari atom bebas.\n",
    "\n",
    "Sebagai contoh, untuk memodelkan air ringan, Anda perlu menambahkan hidrogen dan oksigen ke dalam suatu bahan dan kemudian menetapkan data hamburan termal c_H_in_H2O."
   ]
  },
  {
   "cell_type": "code",
   "execution_count": null,
   "metadata": {},
   "outputs": [],
   "source": [
    "water = openmc.Material()\n",
    "water.add_nuclide('H1', 2.0)\n",
    "water.add_nuclide('O16', 1.0)\n",
    "water.add_s_alpha_beta('c_H_in_H2O')\n",
    "water.set_density('g/cm3', 1.0)"
   ]
  },
  {
   "cell_type": "markdown",
   "metadata": {},
   "source": [
    "Selain itu ada metode tambahan untuk hamburan termal dengan menggunakan NCrystal. Dengan Material.from_ncrystal() dapat memasukkan data suhu, komposisi material, dan densitas."
   ]
  },
  {
   "cell_type": "code",
   "execution_count": null,
   "metadata": {},
   "outputs": [],
   "source": [
    "mat = openmc.Material.from_ncrystal('Al_sg225.ncmat;temp=300K')"
   ]
  },
  {
   "cell_type": "markdown",
   "metadata": {},
   "source": [
    "**Catatan :**\n",
    "> NCrystal hanya menangani interaksi neutron energi rendah. Interaksi lainnya disediakan oleh file ACE"
   ]
  },
  {
   "cell_type": "markdown",
   "metadata": {},
   "source": [
    "#### **Penamaan Material**\n",
    "**Nuklida**\n",
    "- `SymA` di mana \"A\" adalah nomor massa (misalnya, Fe56)\n",
    "\n",
    "**Elemen**\n",
    "- `Sym0` (misalnya, Fe0 atau C0)\n",
    "\n",
    "**Keadaan tereksitasi**\n",
    "- `SymA_eN` (misalnya, V51_e1 untuk keadaan tereksitasi pertama Vanadium-51). Ini hanya digunakan dalam data peluruhan.\n",
    "\n",
    "**Keadaan metastabil**\n",
    "- `SymA_mN` (misalnya, Am242_m1 untuk keadaan tereksitasi pertama Americium-242).\n",
    "\n",
    "**Senyawa**\n",
    "- `c_String_Describing_Material` (misalnya, c_H_in_H2O). Digunakan untuk data hamburan termal."
   ]
  },
  {
   "cell_type": "markdown",
   "metadata": {},
   "source": [
    "### **Temperatur**"
   ]
  },
  {
   "cell_type": "markdown",
   "metadata": {},
   "source": [
    "Dalam OpenMC, definisi material dipisahkan dari spesifikasi suhu. Jika tidak ada spesifikasi suhu sel atau material, suhu default global dapat diatur untuk diterapkan ke semua sel dan material. **Semua suhu harus diberikan dalam satuan Kelvin**"
   ]
  },
  {
   "cell_type": "code",
   "execution_count": null,
   "metadata": {},
   "outputs": [],
   "source": [
    "hot_fuel = openmc.Material()\n",
    "hot_fuel.temperature = 1200.0  # temperature in Kelvin"
   ]
  },
  {
   "cell_type": "markdown",
   "metadata": {},
   "source": [
    "### **Material Campuran**"
   ]
  },
  {
   "cell_type": "markdown",
   "metadata": {},
   "source": [
    "Di OpenMC, dimungkinkan untuk **mencampur sejumlah material untuk membuat material baru** dengan komposisi nuclide dan kerapatan yang benar. Metode `Material.mix_materials()` menerima daftar material dan daftar fraksi pencampurannya. **Fraksi pencampuran dapat diberikan sebagai fraksi atom, fraksi berat, atau fraksi volume. Jenis fraksi dapat ditentukan dengan memberikan 'ao', 'wo', atau 'vo'**"
   ]
  },
  {
   "cell_type": "code",
   "execution_count": null,
   "metadata": {},
   "outputs": [],
   "source": [
    "mox_material = openmc.Material()\n",
    "# Fraksi 0.97 mewakili 97% bahan bakar dan 0.03 mewakili 3% plutonium oksida berdasarkan berat, yang didefinisikan menggunakan fraksi berat (dengan parameter 'wo').\n",
    "mox_material.mix_materials([fuel, plutonium_oxide], [0.97, 0.03], 'wo')"
   ]
  },
  {
   "cell_type": "markdown",
   "metadata": {},
   "source": [
    "**Catatan:**\n",
    ">  Jika fraksi menggunakan fraksi atom atau fraksi berat, fraksi harus berjumlah satu. Jika fraksi kurang dari satu, maka sisa fraksi akan ditetapkan sebagai material void (kosong)."
   ]
  },
  {
   "cell_type": "markdown",
   "metadata": {},
   "source": [
    "Material dengan data hamburan termal S(α,β) tidak dapat digunakan dalam `metode Material.mix_materials()`. Namun, data hamburan termal dapat ditambahkan ke material yang dibuat dengan `Material.mix_materials()`.\n",
    "\n",
    "Ini berarti bahwa meskipun tidak dapat langsung mencampur material yang memiliki data S(α,β), tetapi bisa membuat material campuran terlebih dahulu menggunakan `mix_materials()` dan kemudian menambahkan data hamburan termal setelah material campuran tersebut dibuat."
   ]
  },
  {
   "cell_type": "code",
   "execution_count": null,
   "metadata": {},
   "outputs": [],
   "source": [
    "# Setelah membuat material campuran\n",
    "mox_material = openmc.Material()\n",
    "mox_material.mix_materials([fuel, plutonium_oxide], [0.97, 0.03], 'wo')\n",
    "\n",
    "# Menambahkan data hamburan termal S(alpha, beta) ke material campuran\n",
    "mox_material.add_s_alpha_beta('H_in_H2O', 300)  # Misalnya, data untuk hidrogen di air pada suhu 300 K"
   ]
  },
  {
   "cell_type": "markdown",
   "metadata": {},
   "source": [
    "Dalam OpenMC **material harus dibuat dalam bentuk XML**, Kelas Materials berfungsi seperti daftar, sehingga material dapat ditambahkan dengan cara melewatkan daftar ke konstruktor, menggunakan metode seperti append(), atau melalui operator +=. Selanjutnya ekspor koleksi tersebut menggunakan metode `Materials.export_to_xml()`."
   ]
  },
  {
   "cell_type": "code",
   "execution_count": null,
   "metadata": {},
   "outputs": [],
   "source": [
    "# Membuat instansi Materials\n",
    "materials = openmc.Materials()\n",
    "\n",
    "# Menambahkan beberapa material ke koleksi\n",
    "fuel_material = openmc.Material(1)\n",
    "fuel_material.add_nuclide('U235', 1.0, 'wo')  # contoh penambahan isotop\n",
    "materials.append(fuel_material)\n",
    "\n",
    "moderator_material = openmc.Material(2)\n",
    "moderator_material.add_nuclide('H1', 2.0, 'wo')  # contoh penambahan isotop\n",
    "materials.append(moderator_material)\n",
    "\n",
    "# Mengekspor koleksi material ke dalam file materials.xml\n",
    "materials.export_to_xml('materials.xml')\n",
    "\n",
    "# Atau\n",
    "materials = openmc.Materials()\n",
    "materials.append(water)\n",
    "materials += [uo2, zircaloy]\n",
    "materials.export_to_xml()\n",
    "\n",
    "# Atau\n",
    "materials = openmc.Materials([water, uo2, zircaloy])\n",
    "materials.export_to_xml()"
   ]
  },
  {
   "cell_type": "markdown",
   "metadata": {},
   "source": [
    "### **Cross Section**"
   ]
  },
  {
   "cell_type": "markdown",
   "metadata": {},
   "source": [
    "OpenMC menggunakan file bernama cross_sections.xml untuk menunjukkan di mana data penampang silang (cross section) dapat ditemukan di sistem file. File ini memiliki peran yang sama seperti xsdir untuk MCNP atau xsdata untuk Serpent.\n",
    "\n",
    "OpenMC untuk menggunakan file tersebut dengan mengatur Materials.cross_sections atau dengan mengatur variabel lingkungan OPENMC_CROSS_SECTIONS ke path dari file cross_sections.xml."
   ]
  },
  {
   "cell_type": "code",
   "execution_count": null,
   "metadata": {},
   "outputs": [],
   "source": [
    "# Menetapkan path ke file cross_sections.xml dalam kelas Materials\n",
    "materials = openmc.Materials()\n",
    "materials.cross_sections = '/path/to/cross_sections.xml'"
   ]
  },
  {
   "cell_type": "markdown",
   "metadata": {},
   "source": [
    "Pada bagian .profile di WSL harus di tambahkan\n",
    "\n",
    "`export OPENMC_CROSS_SECTIONS=/path/to/cross_sections.xml`"
   ]
  },
  {
   "cell_type": "markdown",
   "metadata": {},
   "source": [
    "## <center> **Geometri** </center>"
   ]
  },
  {
   "cell_type": "markdown",
   "metadata": {},
   "source": [
    "Geometri model dalam OpenMC didefinisikan menggunakan constructive solid geometry (CSG), yang juga disebut geometri kombinatorial. CSG memungkinkan membuat wilayah yang kompleks menggunakan operator Boolean (interseksi, union, dan komplemen) pada wilayah yang lebih sederhana.\n",
    "\n",
    "Permukaan adalah suatu locus dari nol-nolnya suatu fungsi dari koordinat Cartesian (𝑥,𝑦,𝑧)\n",
    "\n",
    "[refrensi_geometri](https://docs.openmc.org/en/stable/usersguide/geometry.html)"
   ]
  },
  {
   "cell_type": "code",
   "execution_count": null,
   "metadata": {},
   "outputs": [],
   "source": [
    "sphere = openmc.Sphere(r=10.0)\n",
    "\n",
    "# This is equivalent\n",
    "sphere = openmc.Sphere()\n",
    "sphere.r = 10.0"
   ]
  },
  {
   "cell_type": "markdown",
   "metadata": {},
   "source": [
    "Setelah sebuah permukaan dibuat, half-space (setengah ruang) dapat diperoleh dengan menerapkan operator unary - atau +, yang masing-masing sesuai dengan negative half-space dan positive half-space.\n",
    "- Negative half-space (-surface): Berisi semua titik yang memenuhi persamaan 𝑓(𝑥,𝑦,𝑧)<0, yaitu area di dalam permukaan.\n",
    "- Positive half-space (+surface): Berisi semua titik yang memenuhi persamaan 𝑓(𝑥,𝑦,𝑧)>0, yaitu area di luar permukaan."
   ]
  },
  {
   "cell_type": "code",
   "execution_count": null,
   "metadata": {},
   "outputs": [],
   "source": [
    "sphere = openmc.Sphere(r=5.0)  # Membuat permukaan bola dengan jari-jari 5.0\n",
    "\n",
    "inside_sphere = -sphere  # Ruang di dalam bola (negative half-space)\n",
    "outside_sphere = +sphere  # Ruang di luar bola (positive half-space)"
   ]
  },
  {
   "cell_type": "markdown",
   "metadata": {},
   "source": [
    "Instance dari openmc.Halfspace dapat digabungkan menggunakan operator Boolean berikut:\n",
    "- & (intersection) → Menghasilkan wilayah yang merupakan irisan dari dua atau lebih half-space.\n",
    "- | (union) → Menghasilkan wilayah yang merupakan gabungan dari dua atau lebih half-space.\n",
    "- ~ (complement) → Menghasilkan wilayah komplemen dari suatu half-space (membalik inside ⇄ outside)."
   ]
  },
  {
   "cell_type": "code",
   "execution_count": null,
   "metadata": {},
   "outputs": [],
   "source": [
    "# Mendefinisikan dua permukaan: bola dan silinder\n",
    "sphere = openmc.Sphere(r=5.0)\n",
    "cylinder = openmc.Cylinder(r=3.0, axis='z')\n",
    "\n",
    "# Menggunakan operator Boolean\n",
    "region_intersection = -sphere & -cylinder  # Wilayah di dalam bola dan di dalam silinder\n",
    "region_union = -sphere | -cylinder  # Wilayah di dalam bola atau di dalam silinder\n",
    "region_complement = ~(-sphere)  # Wilayah di luar bola"
   ]
  },
  {
   "cell_type": "markdown",
   "metadata": {},
   "source": [
    "Operator & dapat dianggap sebagai logika AND, | sebagai logika OR, dan ~ sebagai logika NOT.\n",
    "\n",
    "Sebagai contoh, membuat suatu wilayah yang terdiri dari −4 < z <−3 atau 3 < z < 4, Anda dapat menggunakan operasi union (|):"
   ]
  },
  {
   "cell_type": "code",
   "execution_count": null,
   "metadata": {},
   "outputs": [],
   "source": [
    "# Mendefinisikan dua bidang horizontal pada z = -4, z = -3, z = 3, dan z = 4\n",
    "z_min1 = openmc.ZPlane(z0=-4)\n",
    "z_max1 = openmc.ZPlane(z0=-3)\n",
    "z_min2 = openmc.ZPlane(z0=3)\n",
    "z_max2 = openmc.ZPlane(z0=4)\n",
    "\n",
    "# Membuat dua region: -4 < z < -3 dan 3 < z < 4\n",
    "region_1 = +z_min1 & -z_max1  # Wilayah antara z = -4 dan z = -3\n",
    "region_2 = +z_min2 & -z_max2  # Wilayah antara z = 3 dan z = 4\n",
    "\n",
    "# Menggabungkan kedua region menggunakan operator |\n",
    "region_union = region_1 | region_2\n",
    "\n",
    "# atau\n",
    "region_bottom = +openmc.ZPlane(-4) & -openmc.ZPlane(-3)\n",
    "region_top = +openmc.ZPlane(3) & -openmc.ZPlane(4)\n",
    "combined_region = region_bottom | region_top"
   ]
  },
  {
   "cell_type": "markdown",
   "metadata": {},
   "source": []
  },
  {
   "cell_type": "markdown",
   "metadata": {},
   "source": [
    "### <Center> **Execution Settings** </Center>"
   ]
  },
  {
   "cell_type": "markdown",
   "metadata": {},
   "source": [
    "Setelah membuat material dan geometri untuk simulasi, langkah terakhir untuk memiliki model yang lengkap adalah menetapkan pengaturan eksekusi melalui kelas openmc.Settings.\n",
    "\n",
    "Setidaknya, perlu ditentukan:\n",
    "- Distribusi sumber (source distribution)\n",
    "- Jumlah partikel yang akan dijalankan"
   ]
  },
  {
   "cell_type": "markdown",
   "metadata": {},
   "source": [
    "Atribut `Settings.run_mode` menentukan mode eksekusi yang digunakan saat OpenMC dijalankan. OpenMC mendukung lima mode eksekusi berikut:\n",
    "\n",
    "1. `eigenvalue`\n",
    "- Menjalankan simulasi nilai eigen 𝑘 (keff) untuk menghitung multiplikasi neutron.\n",
    "- Digunakan dalam perhitungan reaktor kritikalitas.\n",
    "- Sumber awal hanya digunakan untuk generasi fisi pertama.\n",
    "\n",
    "2. `fixed source`\n",
    "- Menjalankan simulasi dengan sumber tetap, menggunakan sumber eksternal yang ditentukan pada `Settings.source`.\n",
    "- Cocok untuk simulasi aktivasi, sumber neutron eksternal, atau deteksi radiasi.\n",
    "\n",
    "3. `volume`\n",
    "- Menjalankan perhitungan volume stokastik, biasanya digunakan untuk menentukan volume rata-rata material dalam suatu geometri.\n",
    "\n",
    "4. `plot`\n",
    "- Menghasilkan plot slice atau voxel untuk visualisasi geometri (lihat Geometry Visualization dalam dokumentasi OpenMC).\n",
    "\n",
    "5. `particle restart`\n",
    "- Menjalankan simulasi satu partikel dari file restart partikel sebelumnya.\n",
    "Digunakan untuk debugging atau analisis jalur partikel tertentu."
   ]
  },
  {
   "cell_type": "code",
   "execution_count": null,
   "metadata": {},
   "outputs": [],
   "source": [
    "settings = openmc.Settings()\n",
    "settings.run_mode = 'fixed source'"
   ]
  },
  {
   "cell_type": "markdown",
   "metadata": {},
   "source": [
    "Jika `run_mode` tidak ditentukan, OpenMC akan menggunakan mode default `eigenvalue`."
   ]
  },
  {
   "cell_type": "markdown",
   "metadata": {},
   "source": [
    "Strategi eksekusi dalam OpenMC bergantung pada jenis simulasi yang dijalankan:\n",
    "1. **Simulasi Sumber Tetap ('fixed source')**\n",
    "- Total jumlah partikel sumber dibagi menjadi sejumlah batch.\n",
    "- `Settings.batches` → Menentukan jumlah batch.\n",
    "- `Settings.particles` → Menentukan jumlah partikel per batch.\n",
    "2. **Simulasi Eigenvalue ('eigenvalue')**\n",
    "- Partikel dikelompokkan dalam generasi fisi (fission generations).\n",
    "- Beberapa generasi fisi dapat digabungkan dalam satu batch untuk keperluan statistik.\n",
    "- `Settings.generations_per_batch` → Menentukan jumlah generasi fisi per batch.\n",
    "- `Settings.inactive` → Menentukan jumlah batch awal yang diabaikan sebelum tally mulai dikumpulkan.\n",
    "- Untuk rasio dominasi tinggi, menggunakan beberapa generasi per batch dapat mengurangi kesalahan dalam estimasi variansi, meningkatkan keakuratan interval kepercayaan."
   ]
  },
  {
   "cell_type": "code",
   "execution_count": null,
   "metadata": {},
   "outputs": [],
   "source": [
    "settings.particles = 10000\n",
    "settings.generations_per_batch = 10\n",
    "settings.batches = 150\n",
    "settings.inactive = 5"
   ]
  },
  {
   "cell_type": "markdown",
   "metadata": {},
   "source": []
  }
 ],
 "metadata": {
  "kernelspec": {
   "display_name": "openmc-env",
   "language": "python",
   "name": "python3"
  },
  "language_info": {
   "codemirror_mode": {
    "name": "ipython",
    "version": 3
   },
   "file_extension": ".py",
   "mimetype": "text/x-python",
   "name": "python",
   "nbconvert_exporter": "python",
   "pygments_lexer": "ipython3",
   "version": "3.11.6"
  }
 },
 "nbformat": 4,
 "nbformat_minor": 2
}

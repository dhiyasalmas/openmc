{
 "cells": [
  {
   "cell_type": "markdown",
   "metadata": {},
   "source": [
    "# <center> **Pengantar OpenMC** </center> "
   ]
  },
  {
   "cell_type": "markdown",
   "metadata": {},
   "source": [
    "**Dhiya Salma Salsabila/24923304**"
   ]
  },
  {
   "cell_type": "markdown",
   "metadata": {},
   "source": [
    "### **Pendahuluan**\n",
    "**OpenMC** mensimulasikan partikel berupa **neutron dan foton** yang **bergerak secara stokastik (acak)** melalui sebuah **model yang di definisikan secara arbitrer (bebas)**.\n",
    "\n",
    "<p>\n",
    "\n",
    "Dalam reaktor nuklir, **neutron menjadi sangat penting karena dapat menyebabkan reaksi fisi**. Dengan mengetahui perilaku neutron maka dapat **menentukan seberapa sering reaksi fisi terjadi**. Hal ini juga **sebanding dengan energi yang dihasilkan**. "
   ]
  },
  {
   "cell_type": "markdown",
   "metadata": {},
   "source": [
    "#### **Deterministrik**\n",
    "Dalam metode ini diselesaikan dengan persamaan yang dapat **menggambarkan perilaku rata-rata partikel** atau biasa di sebut dengan **persamaan transport neutron**\n",
    "<p>\n",
    "\n",
    "Persamaan ini merupakan **persamaan berdimensi tujuh (tiga dimensi untuk ruang, tiga untuk kecepatan, dan satu untuk waktu)** yang sangat sulit diselesaikan secara langsung. Untuk semua kasus, kecuali masalah yang paling sederhana, diperlukan beberapa bentuk diskretisasi. \n",
    "<p>\n",
    "\n",
    "**Diskretisasi dilakukan dengan membagi seluruh ruang menjadi bagian-bagian kecil yang homogen**, kemudian menyelesaikan persamaan pada bagian-bagian kecil tersebut. Setelah melakukan diskretisasi dan berbagai pendekatan lainnya, kita dapat menghasilkan bentuk persamaan yang sesuai untuk diselesaikan dengan komputer. **Di antaranya adalah metode ordinat diskret, metode karakteristik, difusi beda hingga, dan metode nodal (pemecahan diferensial parsial)**.\n",
    "<p>\n",
    "\n",
    "**Kelebihan:**\n",
    "\n",
    "- Kecepatan solusi: Tergantung pada metode yang digunakan, solusi dapat ditentukan dengan sangat cepat.\n",
    "- Solusi global: Solusi yang dihasilkan adalah solusi global, artinya kita mengetahui perilaku rata-rata di seluruh domain.\n",
    "- Kepastian solusi: Setelah masalah mencapai konvergensi, solusinya diketahui dengan pasti.\n",
    "<p>\n",
    "\n",
    "**Kekurangan:**\n",
    "\n",
    "- Kerumitan model kompleks: Jika modelnya rumit, diperlukan pembuatan mesh yang canggih dan kompleks.\n",
    "- Persiapan penampang multi-grup: Diperlukan penampang multi-grup yang memerlukan pengetahuan solusi sebelumnya (a priori).\n",
    "\n",
    "#### **Monte Carlo**\n",
    "Dalam metode ini menentukan perilaku rata-rata berbagai kuantitas fisik dalam suatu sistem\n",
    "<p>\n",
    "\n",
    "**Kelebihan:**\n",
    "\n",
    "- Tanpa pembuatan mesh: Tidak diperlukan pembuatan mesh untuk membangun geometri. Dengan menggunakan constructive solid geometry (CSG), dimungkinkan untuk membuat model kompleks dengan permukaan melengkung.\n",
    "- Fleksibilitas dalam penampang energi: Metode Monte Carlo dapat digunakan baik dengan penampang energi kontinu maupun multi-grup.\n",
    "- Kemudahan simulasi paralel: Menjalankan simulasi secara paralel secara konsep sangat sederhana.\n",
    "<p>\n",
    "\n",
    "**Kekurangan:**\n",
    "\n",
    "- Biaya komputasi tinggi: Karena bergantung pada pengambilan sampel acak berulang, metode ini memerlukan komputasi yang sangat mahal.\n",
    "- Tidak otomatis memberikan solusi global: Simulasi tidak secara otomatis memberikan solusi global di seluruh domain – Anda harus secara spesifik meminta kuantitas yang diinginkan.\n",
    "- Ketidakpastian stokastik: Bahkan setelah masalah mencapai konvergensi, diperlukan simulasi banyak partikel untuk mengurangi ketidakpastian stokastik."
   ]
  },
  {
   "cell_type": "markdown",
   "metadata": {},
   "source": [
    "#### **Satuan dalam OpenMC**\n",
    "- Panjang : centimeter\n",
    "- Energi : electronvolt\n",
    "- Waktu : second"
   ]
  },
  {
   "cell_type": "markdown",
   "metadata": {},
   "source": [
    "## <Center> **Konfigurasi Data Nuklir** </Center>\n",
    "OpenMC menggunakan format HDF5, namun jika kita memiliki data dalam format ACE yang telah di olah NJOY seperti yang biasa di pakai dalam MCNP atau Serpent maka data tersebut harus di konversi terlebih dahulu ke HDF5."
   ]
  },
  {
   "cell_type": "markdown",
   "metadata": {},
   "source": [
    "##### **Mengolah format ACE**"
   ]
  },
  {
   "cell_type": "code",
   "execution_count": null,
   "metadata": {},
   "outputs": [],
   "source": [
    "import openmc\n",
    "# Contoh\n",
    "u235 = openmc.data.IncidentNeutron.from_ace('92235.710nc')\n",
    "u235.export_to_hdf5('U235.h5')"
   ]
  },
  {
   "cell_type": "markdown",
   "metadata": {},
   "source": [
    "Jika terdapat beberapa file dengan format ACE untuk nuklida yang sama tetapi suhu yang berbeda maka dapat digunakan "
   ]
  },
  {
   "cell_type": "code",
   "execution_count": null,
   "metadata": {},
   "outputs": [],
   "source": [
    "# Interaksi neutron, untuk simulasi interaksi neutron dengan bahan pada berbagai suhu\n",
    "u235 = openmc.data.IncidentNeutron.from_ace('92235.710nc')\n",
    "for suffix in [711, 712, 713, 714, 715, 716]:\n",
    "    u235.add_temperature_from_ace('92235.{}nc'.format(suffix))\n",
    "u235.export_to_hdf5('U235.h5')\n",
    "\n",
    "# Hamburan termal, untuk simulasi interaksi neutron dengan bahan pada suhu rendah, di mana efek hamburan termal signifikan\n",
    "light_water = openmc.data.ThermalScattering.from_ace('lwtr.20t')\n",
    "for suffix in range(21, 28):\n",
    "    light_water.add_temperature_from_ace('lwtr.{}t'.format(suffix))\n",
    "light_water.export_to_hdf5('lwtr.h5')"
   ]
  },
  {
   "cell_type": "markdown",
   "metadata": {},
   "source": [
    "Setelah semua file ACE sudah di ubah ke dalam HDF5, maka file harus di ekspor ke dalam XML"
   ]
  },
  {
   "cell_type": "code",
   "execution_count": null,
   "metadata": {},
   "outputs": [],
   "source": [
    "library = openmc.data.DataLibrary()\n",
    "library.register_file('U235.h5')\n",
    "library.register_file('lwtr.h5')\n",
    "...\n",
    "library.export_to_xml()"
   ]
  },
  {
   "cell_type": "markdown",
   "metadata": {},
   "source": [
    "#### **Mengolah dari ENDF**"
   ]
  },
  {
   "cell_type": "code",
   "execution_count": null,
   "metadata": {},
   "outputs": [],
   "source": [
    "# Contoh penambahan Zr-92, temperatur default 293.6 K\n",
    "zr92 = openmc.data.IncidentNeutron.from_njoy('n-040_Zr_092.endf')\n",
    "\n",
    "# Contoh penambahan dengan beberapa temperatur\n",
    "zr92 = openmc.data.IncidentNeutron.from_njoy(\n",
    "    'n-040_Zr_092.endf', temperatures=[300., 600., 1000.])"
   ]
  },
  {
   "cell_type": "markdown",
   "metadata": {},
   "source": [
    "#### **Photon Cross Section**"
   ]
  },
  {
   "cell_type": "code",
   "execution_count": null,
   "metadata": {},
   "outputs": [],
   "source": [
    "# Dari ACE\n",
    "u = openmc.data.IncidentPhoton.from_ace('92000.12p')\n",
    "u.export_to_hdf5('U.h5')\n",
    "\n",
    "# Dari ENDF\n",
    "u = openmc.data.IncidentPhoton.from_endf('photoat-092_U_000.endf',\n",
    "                                         'atom-092_U_000.endf')"
   ]
  },
  {
   "cell_type": "markdown",
   "metadata": {},
   "source": [
    "## <Center> **Running OpenMC** </Center>\n",
    "untuk menjalanlan OpenMC, hal utama yang harus dilakukan ialah membuat file XML yang menggambarkan model yang akan disimulasikan. Ada 3 file yang diperlukan :\n",
    "- **materials.xml**, file ini berisi **material apa yang ada dalam model** dan dari apa material tersebut terdiri. Selain itu, file ini menunjukkan di mana OpenMC harus mencari perpustakaan penampang lintang.\n",
    "- **geometry.xml**, file ini menjelaskan bagaimana material yang **didefinisikan dalam materials.xml menempati wilayah ruang**. Volume fisik didefinisikan menggunakan geometri padat konstruktif, dijelaskan secara rinci dalam Mendefinisikan Geometri.\n",
    "- **settings.xml**, file ini menunjukkan **mode apa yang harus dijalankan OpenMC**, berapa banyak partikel yang akan disimulasikan, definisi sumber, dan berbagai opsi lainnya.\n",
    "- **tallies.xml**, file ini menjelaskan **kuantitas fisik apa yang harus dihitung selama simulasi (fluks, laju reaksi, arus, dll.)**.\n",
    "- **plots.xml**, file ini memberikan **spesifikasi untuk menghasilkan plot irisan atau voxel dari geometri**."
   ]
  },
  {
   "cell_type": "code",
   "execution_count": null,
   "metadata": {},
   "outputs": [],
   "source": [
    "# Create materials\n",
    "materials = openmc.Materials()\n",
    "...\n",
    "materials.export_to_xml()\n",
    "\n",
    "# Create geometry\n",
    "geometry = openmc.Geometry()\n",
    "...\n",
    "geometry.export_to_xml()\n",
    "\n",
    "# Assign simulation settings\n",
    "settings = openmc.Settings()\n",
    "...\n",
    "settings.export_to_xml()"
   ]
  },
  {
   "cell_type": "markdown",
   "metadata": {},
   "source": [
    "### **Komposisi Material**\n"
   ]
  }
 ],
 "metadata": {
  "kernelspec": {
   "display_name": "openmc-env",
   "language": "python",
   "name": "python3"
  },
  "language_info": {
   "name": "python",
   "version": "3.11.6"
  }
 },
 "nbformat": 4,
 "nbformat_minor": 2
}
